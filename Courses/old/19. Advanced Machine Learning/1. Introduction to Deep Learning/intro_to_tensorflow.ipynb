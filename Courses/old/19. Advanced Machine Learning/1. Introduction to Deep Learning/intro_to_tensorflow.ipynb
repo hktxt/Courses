{
 "cells": [
  {
   "cell_type": "markdown",
   "metadata": {
    "slideshow": {
     "slide_type": "slide"
    }
   },
   "source": [
    "# Intro to TensorFlow\n",
    "\n",
    "This notebook covers the basics of TF and shows you an animation with gradient descent trajectory.\n",
    "<img src=\"images/gradient_descent.png\" style=\"width:50%\">"
   ]
  },
  {
   "cell_type": "markdown",
   "metadata": {},
   "source": [
    "# TensorBoard"
   ]
  },
  {
   "cell_type": "markdown",
   "metadata": {},
   "source": [
    "**Plase note that if you are running on the Coursera platform, you won't be able to access the tensorboard instance due to the network setup there.**\n",
    "\n",
    "Run `tensorboard --logdir=./tensorboard_logs --port=7007` in bash.\n",
    "\n",
    "If you run the notebook locally, you should be able to access TensorBoard on http://127.0.0.1:7007/"
   ]
  },
  {
   "cell_type": "code",
   "execution_count": 1,
   "metadata": {},
   "outputs": [
    {
     "name": "stderr",
     "output_type": "stream",
     "text": [
      "Using TensorFlow backend.\n"
     ]
    },
    {
     "name": "stdout",
     "output_type": "stream",
     "text": [
      "We're using TF 1.2.1\n"
     ]
    }
   ],
   "source": [
    "import tensorflow as tf\n",
    "import sys\n",
    "sys.path.append(\"../..\")\n",
    "from keras_utils import reset_tf_session\n",
    "s = reset_tf_session()\n",
    "print(\"We're using TF\", tf.__version__)"
   ]
  },
  {
   "cell_type": "markdown",
   "metadata": {},
   "source": [
    "# Warming up\n",
    "For starters, let's implement a python function that computes the sum of squares of numbers from 0 to N-1."
   ]
  },
  {
   "cell_type": "code",
   "execution_count": 2,
   "metadata": {
    "collapsed": true
   },
   "outputs": [],
   "source": [
    "import numpy as np\n",
    "\n",
    "def sum_python(N):\n",
    "    return np.sum(np.arange(N)**2)"
   ]
  },
  {
   "cell_type": "code",
   "execution_count": 3,
   "metadata": {},
   "outputs": [
    {
     "name": "stdout",
     "output_type": "stream",
     "text": [
      "CPU times: user 1.69 ms, sys: 47 µs, total: 1.74 ms\n",
      "Wall time: 1.3 ms\n"
     ]
    },
    {
     "data": {
      "text/plain": [
       "333328333350000"
      ]
     },
     "execution_count": 3,
     "metadata": {},
     "output_type": "execute_result"
    }
   ],
   "source": [
    "%%time\n",
    "sum_python(10**5)"
   ]
  },
  {
   "cell_type": "markdown",
   "metadata": {},
   "source": [
    "# Tensoflow teaser\n",
    "\n",
    "Doing the very same thing"
   ]
  },
  {
   "cell_type": "code",
   "execution_count": 4,
   "metadata": {
    "collapsed": true
   },
   "outputs": [],
   "source": [
    "# An integer parameter\n",
    "N = tf.placeholder('int64', name=\"input_to_your_function\")\n",
    "\n",
    "# A recipe on how to produce the same result\n",
    "result = tf.reduce_sum(tf.range(N)**2)"
   ]
  },
  {
   "cell_type": "code",
   "execution_count": 5,
   "metadata": {},
   "outputs": [
    {
     "data": {
      "text/plain": [
       "<tf.Tensor 'Sum:0' shape=() dtype=int64>"
      ]
     },
     "execution_count": 5,
     "metadata": {},
     "output_type": "execute_result"
    }
   ],
   "source": [
    "# just a graph definition\n",
    "result"
   ]
  },
  {
   "cell_type": "code",
   "execution_count": 6,
   "metadata": {},
   "outputs": [
    {
     "name": "stdout",
     "output_type": "stream",
     "text": [
      "CPU times: user 6.69 ms, sys: 74 µs, total: 6.76 ms\n",
      "Wall time: 16.4 ms\n"
     ]
    },
    {
     "data": {
      "text/plain": [
       "333328333350000"
      ]
     },
     "execution_count": 6,
     "metadata": {},
     "output_type": "execute_result"
    }
   ],
   "source": [
    "%%time\n",
    "# actually executing\n",
    "result.eval({N: 10**5})"
   ]
  },
  {
   "cell_type": "code",
   "execution_count": 7,
   "metadata": {
    "collapsed": true
   },
   "outputs": [],
   "source": [
    "# logger for tensorboard\n",
    "writer = tf.summary.FileWriter(\"tensorboard_logs\", graph=s.graph)"
   ]
  },
  {
   "cell_type": "markdown",
   "metadata": {},
   "source": [
    "# How does it work?\n",
    "1. Define placeholders where you'll send inputs\n",
    "2. Make a symbolic graph: a recipe for mathematical transformation of those placeholders\n",
    "3. Compute outputs of your graph with particular values for each placeholder\n",
    "  * `output.eval({placeholder: value})`\n",
    "  * `s.run(output, {placeholder: value})`\n",
    "\n",
    "So far there are two main entities: \"placeholder\" and \"transformation\" (operation output)\n",
    "* Both can be numbers, vectors, matrices, tensors, etc.\n",
    "* Both can be int32/64, floats, booleans (uint8) of various size.\n",
    "\n",
    "* You can define new transformations as an arbitrary operation on placeholders and other transformations\n",
    " * `tf.reduce_sum(tf.arange(N)**2)` are 3 sequential transformations of placeholder `N`\n",
    " * There's a tensorflow symbolic version for every numpy function\n",
    "   * `a+b, a/b, a**b, ...` behave just like in numpy\n",
    "   * `np.mean` -> `tf.reduce_mean`\n",
    "   * `np.arange` -> `tf.range`\n",
    "   * `np.cumsum` -> `tf.cumsum`\n",
    "   * If you can't find the operation you need, see the [docs](https://www.tensorflow.org/versions/r1.3/api_docs/python).\n",
    "   \n",
    "`tf.contrib` has many high-level features, may be worth a look."
   ]
  },
  {
   "cell_type": "code",
   "execution_count": 8,
   "metadata": {
    "collapsed": true
   },
   "outputs": [],
   "source": [
    "with tf.name_scope(\"Placeholders_examples\"):\n",
    "    # Default placeholder that can be arbitrary float32\n",
    "    # scalar, vertor, matrix, etc.\n",
    "    arbitrary_input = tf.placeholder('float32')\n",
    "\n",
    "    # Input vector of arbitrary length\n",
    "    input_vector = tf.placeholder('float32', shape=(None,))\n",
    "\n",
    "    # Input vector that _must_ have 10 elements and integer type\n",
    "    fixed_vector = tf.placeholder('int32', shape=(10,))\n",
    "\n",
    "    # Matrix of arbitrary n_rows and 15 columns\n",
    "    # (e.g. a minibatch of your data table)\n",
    "    input_matrix = tf.placeholder('float32', shape=(None, 15))\n",
    "    \n",
    "    # You can generally use None whenever you don't need a specific shape\n",
    "    input1 = tf.placeholder('float64', shape=(None, 100, None))\n",
    "    input2 = tf.placeholder('int32', shape=(None, None, 3, 224, 224))\n",
    "\n",
    "    # elementwise multiplication\n",
    "    double_the_vector = input_vector*2\n",
    "\n",
    "    # elementwise cosine\n",
    "    elementwise_cosine = tf.cos(input_vector)\n",
    "\n",
    "    # difference between squared vector and vector itself plus one\n",
    "    vector_squares = input_vector**2 - input_vector + 1"
   ]
  },
  {
   "cell_type": "code",
   "execution_count": 9,
   "metadata": {
    "collapsed": true
   },
   "outputs": [],
   "source": [
    "my_vector =  tf.placeholder('float32', shape=(None,), name=\"VECTOR_1\")\n",
    "my_vector2 = tf.placeholder('float32', shape=(None,))\n",
    "my_transformation = my_vector * my_vector2 / (tf.sin(my_vector) + 1)"
   ]
  },
  {
   "cell_type": "code",
   "execution_count": 10,
   "metadata": {},
   "outputs": [
    {
     "name": "stdout",
     "output_type": "stream",
     "text": [
      "Tensor(\"truediv:0\", shape=(?,), dtype=float32)\n"
     ]
    }
   ],
   "source": [
    "print(my_transformation)"
   ]
  },
  {
   "cell_type": "code",
   "execution_count": 11,
   "metadata": {},
   "outputs": [
    {
     "name": "stdout",
     "output_type": "stream",
     "text": [
      "[ 0.  1.  2.  3.  4.]\n"
     ]
    },
    {
     "data": {
      "text/plain": [
       "array([ 0.        ,  1.62913239,  2.09501147,  2.62899613,  0.        ], dtype=float32)"
      ]
     },
     "execution_count": 11,
     "metadata": {},
     "output_type": "execute_result"
    }
   ],
   "source": [
    "dummy = np.arange(5).astype('float32')\n",
    "print(dummy)\n",
    "my_transformation.eval({my_vector: dummy, my_vector2: dummy[::-1]})"
   ]
  },
  {
   "cell_type": "code",
   "execution_count": 12,
   "metadata": {
    "collapsed": true
   },
   "outputs": [],
   "source": [
    "writer.add_graph(my_transformation.graph)\n",
    "writer.flush()"
   ]
  },
  {
   "cell_type": "markdown",
   "metadata": {},
   "source": [
    "TensorBoard allows writing scalars, images, audio, histogram. You can read more on tensorboard usage [here](https://www.tensorflow.org/get_started/graph_viz)."
   ]
  },
  {
   "cell_type": "markdown",
   "metadata": {},
   "source": [
    "# Summary\n",
    "* Tensorflow is based on computation graphs\n",
    "* A graph consists of placeholders and transformations"
   ]
  },
  {
   "cell_type": "markdown",
   "metadata": {},
   "source": [
    "# Loss function: Mean Squared Error\n",
    "\n",
    "Loss function must be a part of the graph as well, so that we can do backpropagation."
   ]
  },
  {
   "cell_type": "code",
   "execution_count": 18,
   "metadata": {
    "collapsed": true
   },
   "outputs": [],
   "source": [
    "with tf.name_scope(\"MSE\"):\n",
    "    y_true = tf.placeholder(\"float32\", shape=(None,), name=\"y_true\")\n",
    "    y_predicted = tf.placeholder(\"float32\", shape=(None,), name=\"y_predicted\")\n",
    "    # Implement MSE(y_true, y_predicted), use tf.reduce_mean(...)\n",
    "    # mse = ### YOUR CODE HERE ###\n",
    "    mse = tf.reduce_mean(tf.squared_difference(y_true, y_predicted)) \n",
    "\n",
    "def compute_mse(vector1, vector2):\n",
    "    return mse.eval({y_true: vector1, y_predicted: vector2})"
   ]
  },
  {
   "cell_type": "code",
   "execution_count": 19,
   "metadata": {},
   "outputs": [],
   "source": [
    "writer.add_graph(mse.graph)\n",
    "writer.flush()"
   ]
  },
  {
   "cell_type": "code",
   "execution_count": 20,
   "metadata": {},
   "outputs": [],
   "source": [
    "# Rigorous local testing of MSE implementation\n",
    "import sklearn.metrics\n",
    "for n in [1, 5, 10, 10**3]:\n",
    "    elems = [np.arange(n), np.arange(n, 0, -1), np.zeros(n),\n",
    "             np.ones(n), np.random.random(n), np.random.randint(100, size=n)]\n",
    "    for el in elems:\n",
    "        for el_2 in elems:\n",
    "            true_mse = np.array(sklearn.metrics.mean_squared_error(el, el_2))\n",
    "            my_mse = compute_mse(el, el_2)\n",
    "            if not np.allclose(true_mse, my_mse):\n",
    "                print('mse(%s,%s)' % (el, el_2))\n",
    "                print(\"should be: %f, but your function returned %f\" % (true_mse, my_mse))\n",
    "                raise ValueError('Wrong result')"
   ]
  },
  {
   "cell_type": "markdown",
   "metadata": {},
   "source": [
    "# Variables\n",
    "\n",
    "Placeholder and transformation values are not stored in the graph once the execution is finished. This isn't too comfortable if you want your model to have parameters (e.g. network weights) that are always present, but can change their value over time.\n",
    "\n",
    "Tensorflow solves this with `tf.Variable` objects.\n",
    "* You can assign variable a value at any time in your graph\n",
    "* Unlike placeholders, there's no need to explicitly pass values to variables when `s.run(...)`-ing\n",
    "* You can use variables the same way you use transformations \n",
    " "
   ]
  },
  {
   "cell_type": "code",
   "execution_count": 21,
   "metadata": {
    "collapsed": true
   },
   "outputs": [],
   "source": [
    "# Creating a shared variable\n",
    "shared_vector_1 = tf.Variable(initial_value=np.ones(5),\n",
    "                              name=\"example_variable\")"
   ]
  },
  {
   "cell_type": "code",
   "execution_count": 22,
   "metadata": {},
   "outputs": [
    {
     "name": "stdout",
     "output_type": "stream",
     "text": [
      "Initial value [ 1.  1.  1.  1.  1.]\n"
     ]
    }
   ],
   "source": [
    "# Initialize variable(s) with initial values\n",
    "s.run(tf.global_variables_initializer())\n",
    "\n",
    "# Evaluating the shared variable\n",
    "print(\"Initial value\", s.run(shared_vector_1))"
   ]
  },
  {
   "cell_type": "code",
   "execution_count": 23,
   "metadata": {},
   "outputs": [
    {
     "name": "stdout",
     "output_type": "stream",
     "text": [
      "New value [ 0.  1.  2.  3.  4.]\n"
     ]
    }
   ],
   "source": [
    "# Setting a new value\n",
    "s.run(shared_vector_1.assign(np.arange(5)))\n",
    "\n",
    "# Getting that new value\n",
    "print(\"New value\", s.run(shared_vector_1))"
   ]
  },
  {
   "cell_type": "markdown",
   "metadata": {},
   "source": [
    "# tf.gradients - why graphs matter\n",
    "* Tensorflow can compute derivatives and gradients automatically using the computation graph\n",
    "* True to its name it can manage matrix derivatives\n",
    "* Gradients are computed as a product of elementary derivatives via the chain rule:\n",
    "\n",
    "$$ {\\partial f(g(x)) \\over \\partial x} = {\\partial f(g(x)) \\over \\partial g(x)}\\cdot {\\partial g(x) \\over \\partial x} $$\n",
    "\n",
    "It can get you the derivative of any graph as long as it knows how to differentiate elementary operations"
   ]
  },
  {
   "cell_type": "code",
   "execution_count": 24,
   "metadata": {
    "collapsed": true
   },
   "outputs": [],
   "source": [
    "my_scalar = tf.placeholder('float32')\n",
    "\n",
    "scalar_squared = my_scalar**2\n",
    "\n",
    "# A derivative of scalar_squared by my_scalar\n",
    "derivative = tf.gradients(scalar_squared, [my_scalar, ])"
   ]
  },
  {
   "cell_type": "code",
   "execution_count": 25,
   "metadata": {},
   "outputs": [
    {
     "data": {
      "text/plain": [
       "[<tf.Tensor 'gradients/pow_1_grad/Reshape:0' shape=<unknown> dtype=float32>]"
      ]
     },
     "execution_count": 25,
     "metadata": {},
     "output_type": "execute_result"
    }
   ],
   "source": [
    "derivative"
   ]
  },
  {
   "cell_type": "code",
   "execution_count": 26,
   "metadata": {},
   "outputs": [
    {
     "data": {
      "image/png": "[encoded data removed]",
      "text/plain": [
       "<matplotlib.figure.Figure at 0x7f8d7cc36128>"
      ]
     },
     "metadata": {},
     "output_type": "display_data"
    }
   ],
   "source": [
    "import matplotlib.pyplot as plt\n",
    "%matplotlib inline\n",
    "\n",
    "x = np.linspace(-3, 3)\n",
    "x_squared, x_squared_der = s.run([scalar_squared, derivative[0]],\n",
    "                                 {my_scalar:x})\n",
    "\n",
    "plt.plot(x, x_squared,label=\"$x^2$\")\n",
    "plt.plot(x, x_squared_der, label=r\"$\\frac{dx^2}{dx}$\")\n",
    "plt.legend();"
   ]
  },
  {
   "cell_type": "markdown",
   "metadata": {},
   "source": [
    "# Why that rocks"
   ]
  },
  {
   "cell_type": "code",
   "execution_count": 27,
   "metadata": {
    "collapsed": true
   },
   "outputs": [],
   "source": [
    "my_vector = tf.placeholder('float32', [None])\n",
    "# Compute the gradient of the next weird function over my_scalar and my_vector\n",
    "# Warning! Trying to understand the meaning of that function may result in permanent brain damage\n",
    "weird_psychotic_function = tf.reduce_mean(\n",
    "    (my_vector+my_scalar)**(1+tf.nn.moments(my_vector,[0])[1]) + \n",
    "    1./ tf.atan(my_scalar))/(my_scalar**2 + 1) + 0.01*tf.sin(\n",
    "    2*my_scalar**1.5)*(tf.reduce_sum(my_vector)* my_scalar**2\n",
    "                      )*tf.exp((my_scalar-4)**2)/(\n",
    "    1+tf.exp((my_scalar-4)**2))*(1.-(tf.exp(-(my_scalar-4)**2)\n",
    "                                    )/(1+tf.exp(-(my_scalar-4)**2)))**2\n",
    "\n",
    "der_by_scalar = tf.gradients(weird_psychotic_function, my_scalar)\n",
    "der_by_vector = tf.gradients(weird_psychotic_function, my_vector)"
   ]
  },
  {
   "cell_type": "code",
   "execution_count": 28,
   "metadata": {},
   "outputs": [
    {
     "data": {
      "image/png": "[encoded data removed]",
      "text/plain": [
       "<matplotlib.figure.Figure at 0x7f8d7c6e2710>"
      ]
     },
     "metadata": {},
     "output_type": "display_data"
    }
   ],
   "source": [
    "# Plotting the derivative\n",
    "scalar_space = np.linspace(1, 7, 100)\n",
    "\n",
    "y = [s.run(weird_psychotic_function, {my_scalar:x, my_vector:[1, 2, 3]})\n",
    "     for x in scalar_space]\n",
    "\n",
    "plt.plot(scalar_space, y, label='function')\n",
    "\n",
    "y_der_by_scalar = [s.run(der_by_scalar,\n",
    "                         {my_scalar:x, my_vector:[1, 2, 3]})\n",
    "                   for x in scalar_space]\n",
    "\n",
    "plt.plot(scalar_space, y_der_by_scalar, label='derivative')\n",
    "plt.grid()\n",
    "plt.legend();"
   ]
  },
  {
   "cell_type": "markdown",
   "metadata": {},
   "source": [
    "# Almost done - optimizers\n",
    "\n",
    "While you can perform gradient descent by hand with automatic gradients from above, tensorflow also has some optimization methods implemented for you. Recall momentum & rmsprop?"
   ]
  },
  {
   "cell_type": "code",
   "execution_count": 29,
   "metadata": {
    "collapsed": true
   },
   "outputs": [],
   "source": [
    "y_guess = tf.Variable(np.zeros(2, dtype='float32'))\n",
    "y_true = tf.range(1, 3, dtype='float32')\n",
    "\n",
    "loss = tf.reduce_mean((y_guess - y_true + 0.5*tf.random_normal([2]))**2) \n",
    "\n",
    "step = tf.train.MomentumOptimizer(0.03, 0.5).minimize(loss, var_list=y_guess)"
   ]
  },
  {
   "cell_type": "markdown",
   "metadata": {},
   "source": [
    "Let's draw a trajectory of a gradient descent in 2D"
   ]
  },
  {
   "cell_type": "code",
   "execution_count": 30,
   "metadata": {},
   "outputs": [
    {
     "data": {
      "image/png": "[encoded data removed]",
      "text/plain": [
       "<matplotlib.figure.Figure at 0x7f8d4ffe84e0>"
      ]
     },
     "metadata": {},
     "output_type": "display_data"
    }
   ],
   "source": [
    "from matplotlib import animation, rc\n",
    "import matplotlib_utils\n",
    "from IPython.display import HTML, display_html\n",
    "\n",
    "# nice figure settings\n",
    "fig, ax = plt.subplots()\n",
    "y_true_value = s.run(y_true)\n",
    "level_x = np.arange(0, 2, 0.02)\n",
    "level_y = np.arange(0, 3, 0.02)\n",
    "X, Y = np.meshgrid(level_x, level_y)\n",
    "Z = (X - y_true_value[0])**2 + (Y - y_true_value[1])**2\n",
    "ax.set_xlim(-0.02, 2)\n",
    "ax.set_ylim(-0.02, 3)\n",
    "s.run(tf.global_variables_initializer())\n",
    "ax.scatter(*s.run(y_true), c='red')\n",
    "contour = ax.contour(X, Y, Z, 10)\n",
    "ax.clabel(contour, inline=1, fontsize=10)\n",
    "line, = ax.plot([], [], lw=2)\n",
    "\n",
    "# start animation with empty trajectory\n",
    "def init():\n",
    "    line.set_data([], [])\n",
    "    return (line,)\n",
    "\n",
    "trajectory = [s.run(y_guess)]\n",
    "\n",
    "# one animation step (make one GD step)\n",
    "def animate(i):\n",
    "    s.run(step)\n",
    "    trajectory.append(s.run(y_guess))\n",
    "    line.set_data(*zip(*trajectory))\n",
    "    return (line,)\n",
    "\n",
    "anim = animation.FuncAnimation(fig, animate, init_func=init,\n",
    "                               frames=100, interval=20, blit=True)"
   ]
  },
  {
   "cell_type": "code",
   "execution_count": 31,
   "metadata": {},
   "outputs": [
    {
     "data": {
      "text/html": [
       "<video width=\"432\" height=\"288\" controls autoplay loop>\n",
       "  <source type=\"video/mp4\" src=\"data:video/mp4;base64,AAAAHGZ0eXBNNFYgAAACAGlzb21pc28yYXZjMQAAAAhmcmVlAABO9W1kYXQAAAKuBgX//6rcRem9\n",
       "5tlIt5Ys2CDZI+7veDI2NCAtIGNvcmUgMTQ4IHIyNjQzIDVjNjU3MDQgLSBILjI2NC9NUEVHLTQg\n",
       "QVZDIGNvZGVjIC0gQ29weWxlZnQgMjAwMy0yMDE1IC0gaHR0cDovL3d3dy52aWRlb2xhbi5vcmcv\n",
       "eDI2NC5odG1sIC0gb3B0aW9uczogY2FiYWM9MSByZWY9MyBkZWJsb2NrPTE6MDowIGFuYWx5c2U9\n",
       "MHgzOjB4MTEzIG1lPWhleCBzdWJtZT03IHBzeT0xIHBzeV9yZD0xLjAwOjAuMDAgbWl4ZWRfcmVm\n",
       "PTEgbWVfcmFuZ2U9MTYgY2hyb21hX21lPTEgdHJlbGxpcz0xIDh4OGRjdD0xIGNxbT0wIGRlYWR6\n",
       "b25lPTIxLDExIGZhc3RfcHNraXA9MSBjaHJvbWFfcXBfb2Zmc2V0PS0yIHRocmVhZHM9OSBsb29r\n",
       "YWhlYWRfdGhyZWFkcz0xIHNsaWNlZF90aHJlYWRzPTAgbnI9MCBkZWNpbWF0ZT0xIGludGVybGFj\n",
       "ZWQ9MCBibHVyYXlfY29tcGF0PTAgY29uc3RyYWluZWRfaW50cmE9MCBiZnJhbWVzPTMgYl9weXJh\n",
       "bWlkPTIgYl9hZGFwdD0xIGJfYmlhcz0wIGRpcmVjdD0xIHdlaWdodGI9MSBvcGVuX2dvcD0wIHdl\n",
       "aWdodHA9MiBrZXlpbnQ9MjUwIGtleWludF9taW49MjUgc2NlbmVjdXQ9NDAgaW50cmFfcmVmcmVz\n",
       "aD0wIHJjX2xvb2thaGVhZD00MCByYz1jcmYgbWJ0cmVlPTEgY3JmPTIzLjAgcWNvbXA9MC42MCBx\n",
       "cG1pbj0wIHFwbWF4PTY5IHFwc3RlcD00IGlwX3JhdGlvPTEuNDAgYXE9MToxLjAwAIAAADI4ZYiE\n",
       "AC///vau/MsrRwuVLh1Ze7NR8uhJcv2IMH1oAAADAADVayF8oYJVUBjg5Cl8UC950wnQObmxLpMS\n",
       "eTd2N1o7ZvU7nZLqidQWs9IRqH4qZFuUNOvgrgAArGB7WlESNB735J/CfrjEy3i5zjzWx5r7oD4b\n",
       "7vRGf5YZpSE2SfCltWRnqtLPBS3FxRjhpp/BEdar5txSfEu67R/ppgZwAi2i8ff512MwmU2ndVwZ\n",
       "0/IypwbXeLiexIGKwjGLSLtuFQ6Y/OKysfXRdbpNhUrKtfRj7DGM8WCX1Bh4c330WAw+R6EXVRFY\n",
       "lu5UH1qoQzyL4+ViaXbsk9e17GMhYcjYQ2ErNh8GLHqFB5yll7cH5+/ATt414OGqKJBfavN2H7Eo\n",
       "MYMyQUJm9f6njg6oT6RI9deVwCrdBzM/Sz/x8vLmA7OACvEgs7ec3QswOORd/etOu0E7t7VpiB00\n",
       "hKHHIDZREnqwvaNj69QpwDqX0pss1cRClh94zlgStU4c5yUCVO+HQbSt4HAXLJj2f9Btb1Gp56ii\n",
       "Oi96XZV1x4KhUxTYawQAUfjzsl0QevSEuVTVlSNIsvo+7QD/x5dqmV34q8Y/e22ByjofSHxpk/7U\n",
       "JlOIzg46ZfH1hLZgWW3R/niY7hJcJ7T94UsjfEkSh3TDgfcD17lLYnCY2sdzwQUX/M7yx8DlUAxf\n",
       "Bf5jCXE+1+wNMg1QAvfybm1SjIO2TPl8BU8XJsElm8w528BUCYhGy7qcnRnuSy6QxEV7zgbX58W4\n",
       "OX++3kHg9QTGgyx+9vVBAdT1fCClHX4ANSaqmTCW59ftwD0BujqkCCWkUJ2w9uAMrIdCjsnjVQgY\n",
       "usw2C1nI5upe6qRnHhMYO+//zOhJwy3GFabODqjJ8LP6JD9HicRvbp/KU0u7QNM3PDeCZGEppIp+\n",
       "d+A0U9LkqJcqlVU9QxjMxe4V5wWiAXVz7X2hUEkcgvbIBu6DDirLSkB6X62ytFi1xHsjrXMwRBoi\n",
       "23k/4WJeSt9ercxBpim+OztNcFsiesOQP5sSGoW5wkc38yjAPbcq7Tdzbk/IrDDaOdxl5A3HGLvo\n",
       "zZ1BGOReneHzeHg/afksZWL4VFYt54t3/Hf9K1pP0qpg033ec0POTLSV2EuXudGEW3w0++tbXV/W\n",
       "TzfL1OHthmmQR6IPVUHFMoqzp1QcXRtQTOdfyzhgBiRX5WVO85tv8+La/kmO0HsSZYHMklOP3co5\n",
       "QDWHzfJAv2xFzpb4zaWMSFkI64HEJiEbYjDtCz5R+5934JrTITw/HoIDDZMsJDKJDy7tEPbaSA9e\n",
       "Rs6mLK1h7v5ilXo8fU4zXpoO8DIuXkGCPnMytYPsejoVgG8/4hV+pdupgbZzrYj2YP/KOAfFDlCb\n",
       "c+Afko28P+APuNw+AREopUusHlOjBttYqMfZpF0lXHnSyZGaC4E/9t+DTsSLLdxT7j02EJ/DJYcg\n",
       "zlbYlWxHyR67M59DOduDXxQ1yVc6Uv0xHmi8cZyM2klmNgFAuAnAXoBpK89d0ninH4c+/x3zxCND\n",
       "gVwld+ZkhAQLOdusrHeV3kkduEsmNVMMG/Z4jzBVquh65pjovblc+tWCuZM25L8WnssoH8vTmfqk\n",
       "8z4vSza/UA18+dAwWnRG9TaD1J9lDGVsI+2H5s+SHVWANZOLLVmeWQLhlKcLusWsnTy4W6Qc1hK3\n",
       "lWy4lqZwoLwKwRWbX98yP5cBLAAAJoy3FrpsDsUYtE3TL3kuxuFVvIqfYjjoZ3q1MFTJsXRq06LK\n",
       "CGXjzDp6hB7mkW+cUnSDxxWGDOoq2FRt3I6jf4pVWCtbujN+OSzPO8fJfMPqmvW7za2IZNH4Ivtm\n",
       "sJzTRzypJjeyJ0gkQxOt04Wtpk9pR8wFijYSlPAPe/xLLPTGlzVe4z/sJ/ZxT0sXez2TFb2HS+PN\n",
       "5fGrWLRo7iTiPCfUPMNtVVeW8QLshluhtUxaeuzxL4KRaXWDzZPD3oCZy7l7PrHjbnsCu+QniSLg\n",
       "8rdR9xoYbwUQ5YwHF3/Nci+zL1HxGZ4L2fog8TyKfh5YrePpnYaER/liN4NOXHG3TyRUAHQPEB+O\n",
       "0fmDCiGW42CFp/SOdacVMu4hEherC3AgxrebXZ6lt57G1D6yYyf/mXSrjlMM6aD8AzMo7YaVi/1Q\n",
       "riXfAbGXkxyMj9BfJMwbTj+GynyOugQf/Ri8ucxRM1dfn2kFerYby85cHDMQ9lc0dfLgioxLGqWq\n",
       "oC8rjPsjgmTYbWjjaA5viU+h3WQwUXncbJMFRQhDbme5/pstilZLsiuxC7ZL9VVppiO237u2tvTB\n",
       "5O/8XFIx0/TJ81Lid1cz77odgSOfPeXtxPbE5SBBn+cjPtwUOxtNkNL/OuX1ZKCfXJ5aiJfNNxEK\n",
       "D4e+kd6iysnSzitkRlLacXr7s9KBBllv2aI7NxGNNB+3pp85KO0OCRRDsw7GYBJFOmiviotN98fv\n",
       "2v7QdcgTYb85gFHBdRQSt7HxjJDk/w5CdMPF7EWgfeHzpqvABLah889ax9+imBMblgPrYaNqv1J1\n",
       "XnKchWA3APyUoBO4qNFdLXG6CZBn1McudnDPTfhmtQIMDDg7aUsx4YK15aB+nq/rZIHoQfXJOdfC\n",
       "zMFGuZut1ezWPRkPdrfmFbb69AbsqSG8ce5lixqUAxoRYZlB7as0utiunTvSauqfa0rMpUAVXLxh\n",
       "AvM7ve5ct6bpU3I6pDH2Liipvmm6CJ36P4Q2bErgqNdVz2PS9ebtw9Y5teX/nqV85RZdGzRifMIC\n",
       "0zU8GUebYKDN9+EEwQxkfCV2fhSi+XMCQCt8OqcFOKfm3Ze0eSfcFeBM2eF9u1QBZnSjM8ujHu1u\n",
       "ofWurCo3bI4uE7KiiCGiDfZOAahRluwQIip2KprEJVRNXyv+5qrTvRN+1OyIMbbeDZiEm05erue1\n",
       "k7Dl9uFkfPKCqrzftDROAKlgoLlA6r2CsAr16w7wapAs1sr3E25kvHP5yrhsvf+717jJIxZIg20m\n",
       "g1UjFgHkAfhl9T3pL1prSlWEHCQ5ocN78Fs8mZHyFt1mw5u2wAqyl56nKeu54bJIuU+SuKN3Ljx1\n",
       "M4npOALIKZiyZdPWJ/CA3h1la6apYFeCQ3ZPEum/+4TIuhV/q0CavAnGVShMlm+nMDpaRLime2ae\n",
       "nOMdlF/NgoHSd+5Fs87L4bpb5qo0xBlYF28kH4rgeEzrxMfQFcUwFdScj4JdrB/JhnY7vW8EPbm1\n",
       "s2QwfRT1o44OXeO3FByaOGcg1P+wPt9P0rEFYOFBzEliVS6TgzgB9N265P+S840oDOQgfCTqU9v/\n",
       "ed6ifJ6zETWcvF7c1zMA0jF3LVoQmfrOXLnD23NjPL+rBNW7SbqI9G7y99OyrZnzf6QqtLO1w9N6\n",
       "58VkS8Y51bU3fTOcTWOELDP6t6r1JjZswjnkF9QQegjGT8/30O7A1nCl+lZzj5XILupkC/w9yDQ9\n",
       "uHkQ0gkXexGxic7RPqj9huxCT4L4J7tB7WRdL/Hx0rZ/BCzG1RTSp9ZEsqYYr2PaS40amo6vDK86\n",
       "Uk7i3RnrKo90bjWtI9L18aa8nuln/iL0AAZ+gGAAXIzMxc1p2rstUtpXO1Tvbud11nCdIsDHgq+z\n",
       "KrGOvugMqChazOY80QFZUzTfFt4MyzeBCriaj+CIIJU2d3atV7lJ9elnT+Wt27qvraWMeciBVeXP\n",
       "x3QKakWjO7YluzSIAAC7WdzSjohiytrGfeEsZXwBjStS6Tzd5DqvTKQlDZdUVN5UE9B9kI5j2/GL\n",
       "Dzj60TbR/pc+kLl6U4vlignbofDTAb08Pf+tL4Bn1I4oNvi0qgorUWxP3pFjSTCpSfL1jfziWx1R\n",
       "YUpYWJVx1i+3cDs61Q0pAeVKPVXGFgVDZ7QO1nSlpJY70bmVZRCfKgqHlU3KFPJF9kFwwLF3SS01\n",
       "VL5YeHSatyjRbbcGfzIotav4Qb830U52mfuAnt4gtgyT5eSj69/nJFjjZbivIowJhWbj3Bl1vPWa\n",
       "DFENPz2yekpD6s68xnDv6EqtF1aPr8utMhMyEYwezRsDPsdk/9lTFDV4wITiutlYdeSDK6gQZXUv\n",
       "Zoi/p3WejiTIKT6WTKGYXLV23Er/qe/XPimx0xwKTfIvIEif8EXM5mEopfK8h6+xr5KPbfLNuFIn\n",
       "TsEjF6v375u4dnmTcjbva6bshW2sJYRWvPTp9ZDffeb6zdAbVoxKaqeWAxmnKvdvfAs8FTHJiBMG\n",
       "pqyJm/ADQdGPxIKqhg800cx9BFSDIXtChi3TPP9QK1ImZY6avTWAeAv01n7MnUmHOyezaKt01XQY\n",
       "C0cSKLpzz362QkD//Me+9ASYNKIx4RMwcHPg4q708cJkyUfIU9W3dkKgRB77Gk4zDCHIB5b9VLFt\n",
       "ZQ+fRmrcpOjXclAzKpQzcBB+PSH9KWjXY+0BlfVofIAsQRvwTmKJ44FS//Vgi7Tk+cdwnGHbiuxq\n",
       "OZ3+iYFq8YzEMSHdAkvBVp1ioScrmwG50vgwB4V7oAn8QmSnjwKR03DS6gJvplYiPe2aYFqHOQn/\n",
       "kKQGZo/59BfYXh0KJW+fQuYabBNGIT09Z2R78Fi+myksqTf+lc08l9kZfUxQql+fb3WSm0b2Vhrw\n",
       "UwhoiBHUrVNpMUX0U1dMjtnIu0BvCv1kF/mSGtkn6VliMKM9Uqn/aAX0Axtc5kRcnVaF3UsehdQK\n",
       "EZMj0OkrJcWaFXPNoUffd8Hz72EkO94w2uJueP+pBYqydT5SWJBR7UAh6JjiDcpuywgydwvISf0p\n",
       "NtGOf+lEBrsGUDTg7Pkd/QG2HwIMA1tKAuAUnQZxzuDvfVM92BcbnQ/jTraQ3NReeu8kIzzHiG/h\n",
       "m+iPPpLAHzFVhgzqnO15qB5QK0lHsbqlk+clD+4FSd7VmcsGUfbNQhLf0Yj0H051FLSqgND/dIVY\n",
       "QOFe397CA+lUZl97dhQnZyULuy02L4dA7yFGAZUX7HHObtcVh8Pca1iLh/3N8bTQ+O+1n/63mge7\n",
       "d8z25oLOBQWWVGfIyORjU6+bLkHhceZZr1r4tZgdENd76TFD1MUaVQMo2/CYjzJYgNxvS4rkn3Ic\n",
       "MiKQ5eGWoAPOaixTBYpnc6w9rPJ/1MKwPrFUAjaLWS+cht8elMtM+ufgBLyEosOnJH3zqw6doImG\n",
       "KdiZwnir5MC+Jc65gwCin/Ec70uf2TuqVO4+B8PhhAjYbUO7ZLT0T3iaH0vDMwgShJxJ9hW3vZwp\n",
       "DPh9lGkCdWKHHzfm3cX5l2iuvMLwfNpzIk5eVdMKEKz4biGzTYCU6uRuFph3dsu1zuh8l+xR8dmu\n",
       "iVgpUrxi6gaGGthzwEnjSITuFHpl+PUQNMr5Rx2tamJnBS7fqjm47xfTYXo+njUpwq/hYZJep0dZ\n",
       "NcMW5LkzQk2QlfBJyRpCCJwIn/m2MYDN/LJHrfyVTzq/4QJQ45+wKcLx7oXO7dlsR1BFlYoHIlmx\n",
       "Co84go8r0CJ9JZoYfBsnwGWwLUmcfa3Gh9j/nhJT5SAyTuVBHJEU9hvzLuYlLYFJwJMHFuEqI070\n",
       "OzdgAjLszJ7FZQVvehR5MXiyN7k636RZMkYa+RP2XW+W8d2B2R/L1/RuykfO7Dzb4vrh00auXkf6\n",
       "WD886e5vqCA+KrswdXKS/xl5jYHkF6ym/UPMOhugJjUFY+Yly4+zQk3+lG3uxXUtOxG9ThN/ICZG\n",
       "+dpLilcvMDQxs/m7YRdybXXyWO8EhBrkEtmbAT5i0sFxtSZ4GbLyJGBTXs1mj2FvgQI8zVZO1bXk\n",
       "Qntn2IvhEap3+WTKC8zuvmnwgWsWkDlWNHyQ2IzY63u7MoE7OjijTGqhGr+iZb8xHZFBNIlt5Qev\n",
       "pGfNAe9wKxUkrY0csChI3OA2hR0ylCs5Yli35x4NR2q4S0MwuZVbqzGZL8fJOPR7cRaoO78EwnUV\n",
       "I7NUx1MYCip/G4ptQShIVw0+Py4yrbiEqwvhOZEgyn+s6lmnExGIdmerqV/mwMzmAXceTp/wTTFc\n",
       "imSV4dKqbnFt0RVQaPx1puvKTHAlTrQpGADXkaespSvTGSr/ULQH1iIbKGoNwhsWZwtE8Ceol8Ou\n",
       "RCvyILPNxonK2NatNFxFQnGqdGb3CDzChXkOyghbcTVHLeDq0R0ryksb4pklVMRuXSYWMCgGe+S6\n",
       "u9xLKP+m1Cn5gzWh4bwgQivPaGO/zFe59qIvuInfHO5512vzoMu0rmLET47k1p7jV0HzGckK/0bX\n",
       "NkYF9/W6D277aPUNzsRSvgkWJ5kT0sJA+jZejur7ZrosVJS6TPg/3I83OnvGYxno+CDC+ofDpXab\n",
       "CM5BSUEX4BUQubGalJTA9cj7k90HJ8jxp71WjHnnW/SgsxU55OiZve2lheXNDQSpE1X8HI1eXLv/\n",
       "p4Do+YbzDc/0kg5ieN5H5Ef/nxxhptw4VMaHLfakM/NzdTlQ30Bq8h7hjxyel4zqRl4/w4ye9alI\n",
       "Q3SkcG/fEotU4Ql05U24NGHpED6Uwfs0xIn3hqBVLMkv6nsaucMKzhR5aPTDJ2CzDElrUBY0aTRA\n",
       "gw5hHml937SwqZr6lAvSIX3id5iUMnkITL9akzBBf3bPeXD1bUTDePQDbtggwdwNGVtGYrftioP7\n",
       "e8jkh7RX4L+S9ut4tK6597wT8mxEo0gi47wqEaU5qOzbSSAGev7bHWe45vJUFYp6zA2zts9+EBTy\n",
       "IGrXicqs+e4NCrfGxUPBhIqOoJaK7UUMsZc3OPWaM+f/QWwi5slGEm66mg526UWGRlrJDlZ3beyH\n",
       "d7sZ5NmM4u1OtTXTSlZP1v9BjQ7uJLKfb22qAMaIbkW43r2wey+OOO+mo0I6AtH/11tCK98rm0bW\n",
       "i2xcTLVh86fl8ot/CkMGQ2g1Ev8WjNPwQwVHPdfynMLfPmzjXrQKx7TmVsGo7N7PjfG6yJSG7YiZ\n",
       "SFHsC/SHq0IAcytkYjXYUI1Tb31sFncCqcEtZVVQLVUpTZXt1CCMsFHTQB7nYVS/HUdAMGDTqxYD\n",
       "0xg1sq3I3NdjkcFqVzv01fm11JBxbJOC0cRLFnaNPfSyV128IL35a9oX1OdX0nPQ3DaIFh/N2RLS\n",
       "liZg5hXo0efz4GFFylgm5ywo4lS7qYBCKOS/t/Zwp0xFXT8Wqh4AHhsIUEe3Kq121Xy7HngNnA7J\n",
       "YtnPjOBk4FOawg8bMyuxXe/Yb77RCPKhY+uX7CsoUJfbIuJe94fXjx+r7v/PQIzlL2GhmZsTHuVh\n",
       "dmGQdK/Kjfy+Tkp4MxowLoUpw1zmUOcgaiwmcwT4wR7UW50UimZ1y7G0zR8mu972ZfAxgOVG/5gZ\n",
       "Olzakuqt6PBKGtIHcEqZQZE9HfjmDoZ/AzgxJ7RJlr6EzfhNN0JdHIGmcbxw/SOUAUszYpJkU5LJ\n",
       "C4ueRcT5RxXjjq6snehJZtZkU+fW32xk7EAZddhE7rjB61Hr9r3clw6tvlwI3/eZGQq2JhDLmNpD\n",
       "gz+YUjG64WAlZEkXhPEsTvT2TYLqt5FD5CtBWf8UwaZMGnK9Hwu+hPN8KpFKEWdQlgKUyGqwIidj\n",
       "8RwXURaPQqd2ErBLwKLPWMaaz/UXjSZQyc3w2OnVqmEufADb83RElkudufV7Ye6IeNPQ3dc+qUQo\n",
       "2lnT4n2JfJqhU/SeOjtcih2fJU7JdzeZNfbC9SH191Wi3MzoLP8D7j8G/pCrwqdQXLFmhrIvOMiv\n",
       "M2aLPYrFPsF52ugQhOIYSIQoE4ZHJZi7Yd9ey1XTa/NqqFaB0TS0+2bSTLycNuANBUdsiZ3FyM26\n",
       "BVV9L0uXk7gGVeD9ztp/ZhClhrRr5kCfpMZnIJ0EJ5B/7juLJB/PihuYL7qnE1P1z9aYXs+mXvAI\n",
       "gyMGWpe2J6SQ1BQvMha5X+3DQKHv/CWJOMUSp9+BwQhFoQ+kPOE5fxt18OP4XzfiTOwJJ1eNpjKC\n",
       "+2cY1G+8vu1F1q02GpXVeYUmdNMYHpXuYYOa1f5nmBeK6P85HQUDlHNvzqJiNhSaODJgF903AxQY\n",
       "WrxHhP1R6txFgy3UPnyyj6eKIbilyVwT5kofkjfC9umhV4Cv0dT1V5+tYd9MZCfgSlAcy31P8OTo\n",
       "xWIMHnD2ryH3yJZtJg1X8JrxumfYRDs2o8Zgv4gF/KLe6j+avhQX7oQNPOPyjKswGR44bsHl0Q0C\n",
       "7QUHEOOsiUe84xPtmI1PqLTNnP4hGHk1XTS6fjcEAL9n64XTzadnHOP6tj+h4f+Quil6njd/d8Z5\n",
       "9gr3NWgz/kGkhdvS0xLzn3adJnLZdjYm4uSR/R2gD2oq+DMda8085T4Zrk1ROiD+Mq1omNaDEKv8\n",
       "5IoCQy1YbEH2Joud57HlsKwPLRxqEpEWGYr4VpP09gT3nhPaskoc13Y22JovmUabWbgkspfRp4MU\n",
       "RBgU3Eyw/mp/XwtQX7cBnRus5/WmzYYhvrnMQZEFwSmSF+Ok44kCxoxcoJt+vyk+cC/R0fyjQKye\n",
       "auzzoZOvMYYadZ1jrGdhGqIGCROYaRuWXQqxZxAqb8nfrMyNx5jRdQ5gcbDe0FsF+/ySF/IOhk3B\n",
       "iuBHe9B+4yc2eZm0jqwTqticRemrFlSF1aw1cv8RO9NQWsrbT5yK/HJ6vthzsULQ5eU+toqZFdYN\n",
       "ZVpsGVIexgDrt7Qz8zh7q2oveegTShqj1Iv7V2qO+GZ55tYSjD+k6tKinOyoocQdrxY7du/dVk9u\n",
       "3aJXb/im+x0GbLfdwYMUytSeObUTsDtJrKep/UAUwwZGiWHyGJ7IyRv+Nsw6ObgEvb38txfwzmZW\n",
       "+2yX0Ms3RKrReWLOvKemVr/omYslrLsjeHbuqDk6O9vCXKbrR60mjWRxj9Q2UwRFDzYEtm/0yt2f\n",
       "ALr4N6T1DHbGQz1wwu2FLxMlANKvzOKD2dL9wmtmpthv9ANoCsi2htbWTlUfkLnvmPBegS1ez99Y\n",
       "PbCIBhhze74sK3JpuNA5XFJ+js+666M2BmkT/Ef/i1+AJPlQKhXHLSY6KcC071s1vjr4XJZhaQuN\n",
       "ALL/GIYwFEGspS2M9xJwqR6EmVOwoGGGAi8KUN13nCThlTMtnNtRR+MDc7A5ShmnF9qXAER5qTXr\n",
       "7McA1NfYu3VKaLDOB0L3K3JNFODgD8OQW67RHmxhT8MG5Z1O3vLD0Rx5syXNwGtX90ZdQnoubRh1\n",
       "w+cBXmq/geqFbpzHUG6EXfzDQvaYfSprgoD/ujGYXLwQnV60gHJiTyA9U801P4ivK2MEB7AY9TRR\n",
       "KACBFF5YRl76tgoLLIXsxDJwcdRJ1OJrGkPfhwuBcl2KBao470ivOhtdhYcTI/i1f28NhfSdr+FV\n",
       "LIZ0nn3d77zjWazGMJAskVc5tdfGChB9j/vpVOONNkZn33oPSLyl2mpoYt7tOH1i/qmoAMIc07qp\n",
       "GMlqulRWIVIw3nvUnLKqE8fZwtcz7+xxoGlmL09+lBXaUZFuwQsPhaU/843o9V4E5S/jtm1mUM/C\n",
       "VkS4ytnlj9cNssB1yijNdWd+ZeMZku4zKqGKp67QrDL3GRwaSdHKf9lQ4HJ1dD06XBXHjrJYY+Js\n",
       "c8Ek8yy0eiVcdZh/Pr8Xdv3svSFZLUFdl331SVg2/ataAjCJc4hFGiJWuk8sWnR8McUgnF2TSRi6\n",
       "WHTXi4EFedIXSYB57khNE4/rzjOFS/fg6CdH/VzKAfrdsLrSIxDGqaStQPZEh6L6R67ExP2AkU4G\n",
       "81px87D6OAyHWYwzVMtXqk/qENKEG4j0zpoJbYO0Jkvb1pB0gOMcQEKAEBoCY3Q0efdvBxvyUqrR\n",
       "mP8SJhdJbDGjpI/Jxx2ijAf3ZnCNozBHROqiuE1euYSLX0pUlQsDFIyaWxXYm1Z4Kiduw43TjFhU\n",
       "lds+44RD7mYulsxFKTj8sVob/CXEVcn1AsariPtuUs1d/1HuGt89ci5BKxgFVCDuazHRIoWaio5o\n",
       "jyqDolJDgeY3ySarrrHy/1YUU2y7fxTavbOERuTX1Pulw3wPno9NYP8mEZuI2T1zVLsCeRQEtWLE\n",
       "obJ+E8KNtZ+wF3n9q5lwHAzpTwKI0A0CJcziHJKVG7MI6fjtFeTPYsCRqFxyYgxBA2DdX28cQeky\n",
       "NzIXNsq5tfIIC2Qf3Xg+kzFiCqaps+KgxQy2OVfX94z22pM9aUJ5eusLNrWC7Uo6Mttmdpaylw4P\n",
       "NHlo2xQ1j0d03tpvAQulSJrH3bN5LXeeuM6F3qB8b4+XkJ81CrKAmoNmEmSftEKBIR/oUxI2+4ot\n",
       "56ZQQEHj6S0xKVi4L2MRdxMMq8R8pnJGzejxZ+/fy4sI/HTjoDpFpoxnah0gl7vaeSVOdG68lVXm\n",
       "hhZ6se3stxOORxTEv+AwQQ1ASEdP0r8s+uppPO7/HQtBhSMgUiuyo4xmUF8LBn5luBhKfv8mYfj8\n",
       "gnUsTY4oJB/wBcxfmxwyI2IWW/GuWynHaPN+BuAJdua9klMsw9xGpXS646MJ4DjGwDpStn0eFk7K\n",
       "dTtHWKQ6DJaM322VuiQPiMaLkT5N/Lgw+qgHrt7AwK8EyfPd6FdQY5V62j7C/xJFumavNV8mlU3l\n",
       "WO3YXOdL5ekt1qmrorSQLLZgrtG4q6EWN24tmhAqTQ+Q9qk609Xjyo3PPAdGqeogszH4xDVB/HJQ\n",
       "sQtcEj+FvdkQo/UCQIW6d4x6mLzJlzA0E7FJaG0ATLkBvTDIatPKG3rTByfGpa4ejXArueY2IA0Q\n",
       "r1jr/Ugy9En2G8uwJR+qFMuOU4gSIXsdxr96Q2NQEHnEhPlaQeDV+Ar4YqCoIvI6dZtnHR1AXIn4\n",
       "ZuJzr9dia/+7Le07YXJB7ksErYicBNsb4HuMNc2jVDV/id/eTtd8/BfMMHKAM7V03Itf/IQ4+lx4\n",
       "AwN2ynpCq+TT+eWg6TSehuwOYavZXlJGVDoA69GEYOVxGbNRmzfw7rwUcNrdZX8X8IdXdirbfyAh\n",
       "G1BtA7WsZ6IIGaYnojuYV+OvBOLMBDQQkpNO6VH30a8u/1Xr3dsQV/MNV76gPnEPN6q/4IH3bTj8\n",
       "6VIMK1nzyeyzMUcVtijl/BMqSdoUMrIqdBiW5BqBvy+ptoskUPrtNBiP1GJbwdJNZAcfCMr8ecWL\n",
       "+wyhlxztJQRblERHquc6y8zIkW1/Omq8vsoOLQ/HXvrZh3MaQL4A5+SkpF739QTmgCXPXfliIrjv\n",
       "b1TMUtLURPh/ZbsGM84ezX6wysHH3wHZfwH0OolN8AOl/poOzbcVrQU6bG1cD6LqCPkIydqaxElL\n",
       "pjy4c2Z/tWaLraAsG39VDAFXFKBJqtahksBhPFMiVLTlzGtKxkZ+ChPm58CFueMzuDRQPidEjN5s\n",
       "PsD8R7n6CDD871zH5A2OqzdhHdDex9uu8DWdjiOvnvhVMAWwXRdNl2+StccusiDn5dwSteIABCJV\n",
       "kjBW5t6hJvK3lQ0oW1pRFjcldhqUhtq1ow/8rYakRyM8MXa59af6fnaKXOOkwBW3W09rW/2pobuk\n",
       "UOqV3GyrBgSoBH+MboA+GS9pSoCuwvPYpaFwkDEh/QWQU/UioGrGbKRx5sdLYY4N484CyQRSNQvZ\n",
       "/bbp9PInIDUmMAWbiWOVRjs/jcRwfO1b+3XWdJlR0iOnSsZxK0ierR3M8D/pJdsxSQMxsRPvZwrA\n",
       "vaiMC6Dqx+n6F97NmtGxuPMfX9yDLNgMujPYJ/MGixe1vQNsxSP0qBgIPq3nZ9CoS/wUreqpi/6q\n",
       "jUxDfcICc2+EvqlF1Yz6AvDKQIKWf2INllXJJJcGOhuzpxGOC3aHJDNunYEZG4nuwZh4Rh4PhKZ2\n",
       "+zMxfUjbD2uVrqRcBjmvn4ola51jEvRxBOXIdPYHPkY9IsvEHni58HcDooXUmr8EIuwguG5inQcY\n",
       "nkwCfT/FAAUNzoSUJ+x0rZcGhfk55sg+1+2KxZP0bvoy0GEvV+JChM6yzxH13/EvK3OVNGexk8Y5\n",
       "wfAt6g5BvYHf6Tvoam06/fcNEf3JJuZaIeFZ8fpjKDxPXmddxaJjAacFpPLpyEyF9XyN6T55Upkw\n",
       "srg4Euru7JiGk0qNCY8q9AplhBfoq4BdNVn7mPQaDnv55GvNQcNn4JDcsySJXeE8LLjv2ofZ1M7M\n",
       "tkOL9pmhVa3Ujm+mDJTYVVgg0ar3zJxfYDwVJTc22sDKBqWZDGMTpN/0WhiFQJ85Dtx3MzLvARIY\n",
       "uXu0uJosuOMKwusIlYV9Ue5o/upzoBN4TCvH3IrVv/9PlQ+tSnrVrcUT/5JVtwDfBOTA0XYusuz3\n",
       "uDXUvE5qB2q7F1n4tquf26+B7R05GAUt/61JBoCgxIjdEwKxkr0TgClnyD9WQ061p/5kbmwEGicT\n",
       "EIsabCrzsRioFde5A+akugbwh/CyubRO1K5Wwpg7dspoPCyTrN2pavyXI2qu4drjn17FupEy+Wes\n",
       "s02qFoN+X0OC66Hb8Nm8PfiFXsmTsUAtq50CUS7b7I4BhblO+mjgzaE1rM+HeylOqZsNUSu6/rWH\n",
       "YQ5haipuvjrFo1ZjWCOgg1VMIkhRfrmoEQarwrHraZrlNyJ9QhhvM/5Kn4L25bTqJPEH4hZptoI0\n",
       "lHQnyc7kYLWUB01ZixWEAs4LTm3Hxz7dfhEboNbpIgB9mT6n10+VqKmH7rdO1zxNzcgrhGht5N6K\n",
       "qFjrnCv0zY19+PutBAipmYuVnBcioYIDixQBwWR/NlJaRtzgxzwRXR24fv5lMDi6+Irve0+PbIS0\n",
       "CIFx6M53yL4LHD1OpSYnPvdC4I9+UOr+9neZ20RTTk8oy7SyAe2cgVsUTQHwPXqO7k/+ryJFU2AH\n",
       "d5MJZ5AyNYG8q2JRS0dFEgsW5VF0JJ4ovwSwLlAtzrM8Cd6UjXDnjQ0aiOE6pK45isxaGAVcCGHW\n",
       "r5rzutJ94BTv6GOLabx0ii+vjO9w4nCZGutGklCv7Xes5B6iThKSi4/HNQqbwotNbvpwcSlOcaiY\n",
       "uRN7hTG5XaMbauYbCWnrDoKbzWkJq27zUoCtLbYK780LHShucOkGVry8ZZ0/+xoDdJvxANI+GvnC\n",
       "R6K2Z7m4pDRmmKzxGPj67tFEqvDwkH4NY9kmUNjsfTfOWZvDiR4fbISlx0GlTXReVmvknxyocQV9\n",
       "uMA1eVgr38cozefnvsug2tvKxiXk4qqKini49O4dax7AydkjEkUNXTHh0QXM3b7XAn3J1llM7eFg\n",
       "AKbBxREKPx4eCr28yzOKhouOwN8UJxMNi5TYa8zsIYPXruVAHmTO2wdfk89F6XQHYHIMRPQeNfU+\n",
       "GQo1GGteOaR4slhbwUj14ikw0hr1PNX3HBEmQvEQ8Ue/sMUUIhXqAa4KK+Q5BfzHz+tEiUFFX0J4\n",
       "074XH8BOL8PuFthBfwAiTs+uWf3S+0nYKcDUeQMcWlqzjo5avs71Qi6bkkangwjTKUUHk9pvmcT6\n",
       "ni8AsfPWkRjU89TM5Tfelb1GZIOpEB9eH5myeuvIfDbooGqLjahz8135DtxNYZXCUn/T3ORZ9VPl\n",
       "1qj8+TL7G/szgkPNEDKsYlcBWkauL/JS0oTtKV26iBOX+Jg+SdRK6cX/57KbefAGSyFidbgg+a3L\n",
       "e/ovmCE3RbuNUaVJg1JEIxuBuaWZa/mMaz6AffEpf2JXkMEENW/yBnVmRhHReE9WK2la/NVETOxM\n",
       "rAPim8d3WaqNEB68hqKY5FI6/O94+RZEPNu9tsCO/+kewzQuThLrSS1ORCoxJAMK2eFwLqD+cHzF\n",
       "8lqVtEs2p/leQiAZKKvcSnv3wdlLgCdM3DbRxy9hyHLTgopKpIlCdRlFDYJAzajX0vwT3FGzR5Db\n",
       "r8yuWR6+Okm0l0zFK8oGqQE4nkrP4jPuqAgcnqdVp1XZW1YthsrNsztENKJuhFP5bpFO8Q/qjMT8\n",
       "ShmUmuMns2b2bux+5wzFHI/MDetZLwtVu8CXT5DmI+Lf2+7RzCLUeP9IdIx53BZMt3cB2BIG3nA0\n",
       "EVwdjiMGTQPLwcnMQIQ6WUCD856nJGzHYKceV1aJjQxdKHBp+6ax2d+pguvpkAoff79Uqry/zcc0\n",
       "f8+ORRtWef9Gn0+j39J4iR8WKk6V+irieS4yvzw7qafk6BYMxgXNuxW2SykDousZq5D7hGX3w8Zl\n",
       "fvbcZteriG70997ChLaOqx3/NKyup+GZ1lvLsdDS5AfQTtMUep0ycqeEt+SrL0XjkXAcfW0QaTyl\n",
       "caYj6ttzkCW3+Nw8HY5queUgD4yQBRL/otp7zt3eGqp2KvgLi5UbapVL84kDGeTCKUkReuh0I4x4\n",
       "DD6LQOW79ODvHfL/kPiukH41mOK6tCIIm2VCzz9MQjIsVWJ4TmXNqKGI3LYvR79Ftgoi4AexD8Mk\n",
       "QN4pCi4/EkdVSfbVta2gkHU7EhTNFvbvkz3Ue0acL5r/hM2VMdVYNtM+Xd6xFeznJgRQmdae0ewD\n",
       "FrU9XfCGQRCcG8Rg3NupQ8ASo1839kgIgtaEFpxcSf7OYqLkUUxlWjv9USg3Bw2qCAURzVTPLfiG\n",
       "jKtkcB3CBVlQzJk5fxNbO3yF0uvEkDXgoOUqb+zFj9cQlaCn7H3sr5/CPJ/zOucfLTcJ+mRCqJq7\n",
       "GWrrzbQMGbjInuhALf61ADUPg39lQQW6RxZ8KCrr14pU3LeUMRVfatOzqn3DaA1GH+UBlnMCCYhG\n",
       "YaZv3Ts/j7I/bSagHUce8rosxsqc61JSCNNUEWBkjitDIuvWC00TT+XP9NiHw/BAhYY3Cm6wz2Hz\n",
       "wD4wjpZkn0A0az0e9LmOosyAYaEZd1/aug+K+h3+SnHFN+gJjxupv1FEYY1Z9VgQjrI7Q+ZyfbUr\n",
       "RffgQRhFDqx70hvEKBeVU4yAR5thyx+59xMJGJvB10mZQA++pEjHDUgN1kpaejKnmZzQMfIElTXc\n",
       "jcjZlPmwKly9kJ5gsGjaAHHS2oWdtqGKBP09DbMWHf0gX7dTs+GEC6rdKiB/9wQXfTsMuaU8kJlJ\n",
       "bGBWiYMBR1Xgnofzq7mwdlxktX1f1KKqLI83GCcBRLDFfiMNaiZWzruWnOvrL8gSOFSKb0Z9Xn45\n",
       "//+Ji43HKIzS8kmFj3racJrcAD7Sw2u6R3QAfPQ/0PlqfIlBT8heB6iPAtHIURpJu4RhmbCv10qZ\n",
       "9o6KjwMcfZJr4sSXfQCzB4uEdhCPk3JnsAG9ir4l9DoSKI/wtetpteo9wae1VZXzrTJ3RR+8qWWp\n",
       "9Wimu5jD3RtyQ72IU2K+hO1XMjssVYRA15mtsr3/S09UBMcxGUMp4MfkoYdPsENYN5NABoXvFeCI\n",
       "zj4OAarSvWJZ7zkSMnqRR5gzsFM3BIeJsHJQVsu6xIyEIeKBJ4el6sf4aCvT81FNUADcgrcQNW+q\n",
       "TsA6WuF+zQbv+C1+n+hmNBmtzSwaiJYrQj8GcglbGun86baEdTs2OadsVpMU54D2TwjewYzP605B\n",
       "ZJP0WP52jT30jbfNgNZLpaymhhMdKwZHurSvqLzxZPhVrhrGZsk+SOrYd0PWEQIT65Dr1Ebk30VL\n",
       "6cpbm2tA59rdWUYVc9ptga37FiEJzYdBTyqgJAK1KTZlkb+AD5qEnO7fj+H6yuxQagv+a2Z8QzQg\n",
       "BQ6ov1BCMdleQkka+BcIcUCVfCxjp3q17U6FpvUpoNOBxDsVxCufV42joMhIP9r/z34qjWvX2gMM\n",
       "a8VBn/UAU8bZOrFHAM61Zz+95O5PEp6xUzwaslhWJ+U68WazCSuf+lZmdLUGQSAP9ZWgigCMlhr2\n",
       "ko379Ndr2MRi0LSwr6y4O0gt2jH/Xy1Hlp0V6wf4gCk3+usBYufvNnFFw8xZTy7BsB1euf21coPR\n",
       "h1PQfkV9D3MBBa4c1jyGg4S1WuqZS1hf3vS665llWwhFHkDkohvG8BR22F+6dFvSQqjTtv29jNzG\n",
       "p6Ce/i2LlIdJgn6f8u8oLYPbb8RP3Pu9IiEYzDUxvztLI9Gy/sfQF1or25R7u9QRqiFbH1aP+zYw\n",
       "EPTkG18Nz2PykflGtq8Wpu2BrNpky4JRIW3tZloAhy+v25ocFniI2J+jRV+t1l6TIIfjxyP1YmXx\n",
       "sRy45x7WK/KKzVHwapptGlAbImDQvlWR31z5YPjovmh7WLs20nj41YfsB0ao/syXTGycwfbCpp0h\n",
       "Rq6UCGZWXWLgOB6EL57O+8A3xkb+qeOIhld5kiGGGrqIdIrukiFuH6t+kkfMkyitT7ZWtoR07Gqp\n",
       "1dTbj8pPMLaJDyHDp9DiNpxy+s2uEb3nWBuk2FXe28mJ5f+l9bD3EFsxB0ds7o4rNNRPbXnBVmq7\n",
       "6lP7hQRfEFOONCNW50bEGAdMUVEtzYUTA9YiTJl8RIbHBLF+ZOSHGLWebj9bQnoEBE0liQ3vzEZ7\n",
       "cpsJ4nY8gL6ojcfCGniQhb4a3FKxk1sCaoQRMGT9vv8VL4SMtmHUKzW/qb17Bi4XckxPX3eG7ePZ\n",
       "Yaou7e9K/bsU912BdJb5+qFLZSOQZPYmuBecuUadUTIXDnf3cD7b8Tcpwa1Z86nvCuhanXsmXvQ+\n",
       "36WZZn8Wk6Pye0Q1bFnmRolEmvg0BfPvd7+1zqARKh/RPOLl3jQWzzcD666kxU6NaNcfHRncE1Bg\n",
       "zoZKI+zdEuyHOUxle/je3w+nOhj/abFA2Q9BDcNAvtmMVd9iZM7tryUYAPHOiPoV9B9R26b9yncQ\n",
       "hX1TGzqTtnkOLpyAGVzvZMj7UOPCfoJ4soH3mHvfo7CjaKNcyIMflgWv4Rz5MZu4/fd7s/eWfBEt\n",
       "wFOqDbfHPvuSRnlxVZtaRK7xfBrTAn3qjJQZb+5Yu22bnkYc0TiNejYcJMWT7IgXG6aTfekmEcso\n",
       "rBXrzgCsruuFy3M9PrYHjaeB0u5Nuidn4eGuYMOb1Jbzc7RbU271lu50aIT4kwRnaoFSiptBp1Su\n",
       "ZfQaJdGIx8U+HL1nY2SLXqBnHtIyncjKB8JaW3zgrLtJ9G704Hgh/CvbecDryJhAcu4h53FXhNGJ\n",
       "1sazJco2o66LYM/iLSB/YYQe66f+JrgcwChck4dBPaFKrJ8mevyuz3SKrSesXafex8TNFbvcRqAM\n",
       "ONoxYuTCS8iSYgXPJamW+aJiwuzj8PyfwA6a9wFZVhpH1BJyRG+KQ+bC/7euntFGGeqtJH4T/kvH\n",
       "oJMNynw7KLdgccO3JngHJsSZW8I2Ynz4lFjIdCaXe2JtdH62d13SntALusUWkJZkQQx7u3D/XIla\n",
       "JsTiLM2Di7S00u7cCXbK3tFHk9Zglx7XRc651O667z22lyV56czcwoJgkvQkTfhFr3CBtwOkCLqU\n",
       "RKKpBJ7lgfqX8S18drrJHqhZPUD+pK27NN7pmPyEIKX4WtnsqBF8ADGh03jepaY+lc4HjyJE2Akf\n",
       "NHY7/gnsjXl1ZTrs9w+zAAKQDq7J3sAAK6APmQAAA5VBmiRsQv/+jLAMrxOTnPgh0KDa4BoVRfwu\n",
       "RqlMI2fA0rUXqHHtLDQr+/MeV4MwqWhk5DwNVQaLdaTRb6mVzwxAXZAMsLdadokG+VIr6hyfpjH7\n",
       "LAy/2XndPpkmzCsue4xry3cJJ1gY307uLgas8YsyCaPKoQeDAlfiMp9WBMCaN5SJa1ioe6ShAlMF\n",
       "koLOSmIbHm3g0B/kF8f71kZb6QKFzLpeFY+pQ0qPuqdTT5+QkpiF28Yb+jvL+rIdPAdh93nYax5f\n",
       "AwtmuVEqNQaH6PZgza3bsyoi9jslf5hrmLkl2Ws0sn4WWANLbhcg96MWQ4c9FkhLQTqsNbraA7or\n",
       "kX/QWsgTodY8fI8rRq+Lbtbj/Z3udWAr8FlMge34Bn6wEFwr9AwXgiBANkpkWmUP2KCHo0fTGNZX\n",
       "VkxUaKXKzUdDZJQhDMhJvMlixdeXCTWZJMAknsV4+RZw9n5rP1oh/xEfcA8H22r/7SvgKmm3f6JK\n",
       "+mZwjxEd56qjtMj02Cv3XlaY4/tBpcwhVNg3Z83Y1Rvr/0ZxTO1guNHbUGlYQA17xdjL6UUYCjqK\n",
       "m4w+SQHb93sRxcGwTYDyndUVJ1CbojdrsRarUCE1Qxqd4Z5VwnF9tCiS7OLFtluSNDa3h5MfhkHE\n",
       "CcMRKCoE3TRh6BG6eirk2FqHJw9F5q4r+q6JWP7bwthrOvdTeLrXprsUwMkWkZNk+LQ0p+J+oXsc\n",
       "9gBEv5oaRobe9ufE1qDYhMSmy606aiKvndeH3qROZDO8ntekNJq6eEBRGlo5jEsJu2wBh3i6Yi7T\n",
       "bMLyrlTBYs8wFjLpaKFPRDczGaa5pmynvdd1S/LoMsaP+uU3u87wJ6yvERkC6p2A6AqGHOBzB+zh\n",
       "/4Rk4iEKd709mTi0Ab9pquEwEQo68pSO/nF0ffeesw3/S6sPDEQWFr4tLIvulNIxmglKXXTecMov\n",
       "HU2jnLBeHjRgNDXDWgOyPb0D495K/BQEqmhAgxZqwcd3f6ikTHphC6OOnwEd+kPDdV7rQX6EqVrl\n",
       "3MNbQ+x4V0StU9Vl30pTbtA1ehpDN9epPUzox0v3iFwteNBSrIfhGuSU7qlEEVQ7Ojr/NTitGkYw\n",
       "32C0vTC7imE4U8xxGzlq9Ozvp4Ci1ylGWqlR8BdeaS1IdHy4n6P+I38DATLX8/OO7LMTlEff2Fod\n",
       "54LrgSHs+toyJm3Bwq2osEiwscm8Nq/OXlpFxsRvlcwju4BKwAAAAFRBnkJ4hH8FM94X0HTAHnEO\n",
       "N+KN9yIK3QuqSNC3JBBe1EbzyBk9iydA8oJVweBJD39TqeHcoaGdX6W6FrepKxgfoTLL40abmJg8\n",
       "7FeJkuNnjdt2XsEAAABIAZ5hdEf/B+KVJmkQ4xbq6YSh5dinFrEAuKXa3r2+BoNIZ5mShhj0Di9o\n",
       "sNKc8Eigo10AC0qzqXqY/orSl9PFm6W2vjo9Q6ErAAAALgGeY2pH/wfqNKaUXM6w5CsCAFM52UsO\n",
       "kDVERIkyAZjABa1ql+5FyVYU5d5KmIEAAACJQZplSahBaJlMCF///oywhOJyc58APZJh2sqvQMuM\n",
       "HaiJNO7JtrW7EBQbTNIuxC5lFOtHVBfheW9P3GZOBP9FrS+E55TIK0eWRlPjzJ/lKunIMU6kIDwH\n",
       "AmBh4+rp2sWQwqeCsft46lxIgBoiqp2OotZ4Ya4LPzeKg4V7INa1nyib7z0iwO1Ka0EAAAEkQZqJ\n",
       "SeEKUmUwIX/+jLAAAwD06ABywneOt7iyjgyevku7Dz4BGdyvQj+lGWC+ZS4L/viEDi6/LSvs/uMl\n",
       "WVRHsVw8WQmM/+JM4TwMMrUded3xyhxYbiW/2nUVJUivllAGmapf+GwWuPIW28YoYRwrqWmOgaHO\n",
       "YiZsIGEMqifnr6MK+FM9joWmOBL98Vqa4PVtrrqD+1jAYQDWvJdw2lxqoSX9oI+4f3tEbdbgpENU\n",
       "GnrPuQaIwvoNn2njl3O+2UnHj28igUQU8nW2czPnMO2/KvHVjnRDoMC+6Bgyb1MxaSq6XVWJwiKu\n",
       "ImBRMdNrTvdMN4CFnQi4nUHtD6s1Zhyp4pYFKbge5Mqnzl/sAdTx2jN7UlmoPydgmNqzMWQeuB9D\n",
       "Q5FYgQAAADRBnqdFNEwj/wKx1O9l4IBMIRhT8wI6MdXFyR3YAJxSM6xV7f9NO+wEAmv+enqJZYir\n",
       "+BGxAAAAHwGexnRH/wQxiOJPBkymGYYf9jGcxF2HZ6j+yDAO/egAAAApAZ7Iakf/BDPkQhmns8VC\n",
       "cJ63B7phFOMAJleBr36oj0/OIPc6g+1nJ4AAAAEwQZrNSahBaJlMCFf//jhAABarOOgISUBUy/Hj\n",
       "diGKEwU5dLbYZgYu3Lb8Lu3NUTGHeEx5m8hsSfFBlccoWaN/A5nS4VuoSWJt2NidZrrj61lLOTCd\n",
       "Xw2JLUzephAlR6XcK7Yy+7VyIuIHvRdu5otNB6JDV7QNjFWKD0tKR7pNOgM7QavXJiJde5bLimUv\n",
       "FtLnlH0XjLoBwCmgVEFEZZF8BNrVjjEc/v1C60ukW3kCw6ZUXtJi+hH0t2RdtTaIvnuiEmXinJuk\n",
       "Q7wrUbPMjl/20ey6yYNjZnLTTI+cvn59s5b2UoUUL/zJ16BXqzPDiIDsb4zTyrP0vkD6rxF1RJBS\n",
       "zZD5ywU172955UeLe+Zi163DoJOAIDr2MsZG/vGcMWcbwkaHeus++wokRvF7VEQUpQAAACtBnutF\n",
       "ESwj/wKyFBweqfumrtM9yz4otbo3Jnq9RTusHwLAssSb+DndrxwQAAAAJwGfCnRH/wQxiOJPBkym\n",
       "fT1yTNfCBQArUnMfcon9pmYD6WWFwf8JiAAAACMBnwxqR/8EM+RCGaezxVrZUwamAB/GDMyzhxIF\n",
       "1+wkdPezIQAAAJNBmw5JqEFsmUwIX//+jLAAC24zIAQj1Cu7s4/PKneFiwS0ZYpmah7BesDjSWtv\n",
       "7IOq88LP0spUGGkOpQOpLW+4mtEuH9FE1PjI/OrFkZiRnqgD5fseAbWVJDNewmGivf7hDtiulwSm\n",
       "ubDHT0xRl+h87E8RcZ+aRZXPksOp+3FgiPOSBtQtKa3KR0sg+452XU6SoysAAAAzQZsvSeEKUmUw\n",
       "IX/+jLAACyZvDAJoUpUdLMI/Eu0Zhc+HJk/m23+nS4Fmf6LZ0D4S/koJAAAAj0GbU0nhDomUwIX/\n",
       "/oywABZuZdwkAcedfRhuQLgg0HMsxpVRLfYFCLf4STs7v5wB2QEaP7QcTHEZu1194HIWqKombRbg\n",
       "IwCaSbnK9CNIZBfezoEUJLWZRsiv/n5oT/AtmEQDDWFQFeoPJsQvjZ8/quoSeLRHPfO13FA6hffZ\n",
       "n59Hwj9DoEOU2Qz1zn+nrUHNAAAAL0GfcUURPCP/ArHU72XggEwhGFjtIsyZPABM1IxZiPTH65Mp\n",
       "HoNHRbADvjvPl61oAAAAJwGfkHRH/wQxiOJPBkytbxOrSAAP3KT7X1Hoxg/7lr2QYkmkqipg0QAA\n",
       "ACgBn5JqR/8EM+RCGaezyEMo+V1QAjAS8riP9sfByaDAvkmzWlnIIc/wAAAAOkGblEmoQWiZTAhf\n",
       "//6MsAAWZFoZgFHj6y7dtkrGY37snfulquc8GMbP/oAK8H+0iS7QHG7h5EIYo44AAACKQZu4SeEK\n",
       "UmUwIX/+jLAAK3+hWt+krvH4/1iKwprq0Dz0LfIQ3VWyDu1097vgC09/3et3XvWILSJ41xL7BMgt\n",
       "GSXaZYv9TPHF83z6YWKtK8oF3ucb1bBI17cJPmAqUb9Kf1GcJ548p2JXymUmLZLEc1EtOwh8wNM7\n",
       "D33MOcqxv3Aa2uYOa8AImRNrAAAAK0Gf1kU0TCP/ArHU72XggEwhGF8PAlzYTGUy/0S/rRPg7lgG\n",
       "MX0tvfATLiAAAAAoAZ/1dEf/BDGI4k8GTLYm5dBqFYAAlLAozyst++LYqWoTly8/wTE1YQAAABoB\n",
       "n/dqR/8EM+RCGaezy8XyfwJD5d08RqkaCQAAAClBm/lJqEFomUwIZ//+nhAAKgTvClAIOcWmSHxA\n",
       "V/TNuczMjU1wvM0b0AAAAEFBmh1J4QpSZTAhn/6eEAAp8Kpr6uGco+LAEdU5Ok8WzDPrHyrz6Fws\n",
       "30RC3j2+QMaslzz4fIeJ/n8Q8Ah3a7IwAwAAACVBnjtFNEwj/wKx1O9l4IBMIRheslyijOG8ezlV\n",
       "O7ieabOyMtqAAAAAGwGeWnRH/wQxiOJPBky1xm2tEKicDqQ09CVjQQAAABwBnlxqR/8EM+RCGaez\n",
       "y74EWyk9Ffk/VDiZBizZAAAAP0GaQUmoQWiZTAhn//6eEAAp+WEAAFBHQYzhlX2iDpvseC7Xs1dB\n",
       "omF/QVHDDZkOBu6h40G0YzUncQHDJoWG9AAAACFBnn9FESwj/wKyFBweqfumrtOAmxfcutWXBCKe\n",
       "dPKe1kAAAAAjAZ6edEf/BDGI4k8GTLW1VE78ABajt3JLlRjG/ALQJrm/NFUAAAAXAZ6Aakf/BDPk\n",
       "Qhmns8SvmAOgSZ7bexoAAABkQZqFSahBbJlMCGf//p4QACtb7+FWtkcAVv14KxUuMIbDuaYMdOhf\n",
       "HGNzClv52qaeJCTAdIEtbIpuRgWzjoNLpxChleil6WCH5f0NTRmji78Ym2Yq9VbzYnPKRDEI1z7D\n",
       "cQoRLQAAAC9BnqNFFSwj/wKyFBweqfumrtOCsBOAWOykIf4vw4VLm+Bp6e/5dWMEHNYPQG8u4AAA\n",
       "ACIBnsJ0R/8EMYjiTwZMtl4LMcAC1FaWncw7Nz54tmwyhJhdAAAAHgGexGpH/wQz5EIZp7PL8NeM\n",
       "FZjZGoaYFKsQyUQKoQAAAFFBmslJqEFsmUwIZ//+nhAAVjF6AGLS4vQEpF+6odCH/s4/xB86fMlb\n",
       "KRgLs4FST1eKYPDJBNhYRaW+R5d/gzZEr5pkmPWYhjE0CEIvERNgDZkAAAAwQZ7nRRUsI/8CshQc\n",
       "Hqn7pq7T0sqmYIAFqQSLGebTA08B/QjyzQ6EGiX0mqCzc9ExAAAAKwGfBnRH/wQxiOJPBky23gvm\n",
       "gAVuxOqwpix+p4XwnaDB3Pgi2QPDC0U6p1wAAAAdAZ8Iakf/BDPkQhmns8wdtIl0R4AT6O354xPE\n",
       "NYAAAABdQZsNSahBbJlMCGf//p4QAFYe9ei7JMk4AIwNw64F697mV/fYHvy89wrc5AflOX3vGAmd\n",
       "GblrD1FH1S2HzvqkJ9G8hqeSLvQx1baIUNFPQWolA1NIFvMuLGcX1oTdAAAAJkGfK0UVLCP/ArIU\n",
       "HB6p+6au09CzDFRY6EDcliWYv4YeQqC79HLAAAAAGAGfSnRH/wQxiOJPBkzIyE4gxTitPhIJKAAA\n",
       "ABkBn0xqR/8EM+RCGaez027A9uWKiCwo1BXtAAAAWkGbUUmoQWyZTAhn//6eEABWNjq4AWueTRJS\n",
       "Pkl3HL+dJCqjkS4Pl8FclJtlAIy+Zc1uyzWy6wZnYjeKyPh2cOmkdy/E7WC3+6Z+9ZyutSLEpLG5\n",
       "2aRnKeRJwQAAACtBn29FFSwj/wKyFBweqfumrtPSyukOoQQAE42MC2sviqJH9jwKIdOjzFqxAAAA\n",
       "IgGfjnRH/wQxiOJPBky2YGuYAFqJWfADYL7kJQnmOALUfkAAAAAYAZ+Qakf/BDPkQhmns9N+54am\n",
       "mjYGjqHWAAAATUGblUmoQWyZTAhn//6eEABWT8IS5wBEx9WpsoIjmWsxsURkpTfNjeuDb+/mi0zd\n",
       "zXIkhTl7pslrunrEnckjc+FQ+WasYP5EFaPbaH+BAAAAMUGfs0UVLCP/ArIUHB6p+6au09F4G2hm\n",
       "+AAuLeFvEL1P1dWIkxOkmwKPBP46Tv7xXEAAAAAiAZ/SdEf/BDGI4k8GTMi/CgAFznH3Cl7cYlCe\n",
       "ZolzPGVrqAAAACIBn9RqR/8EM+RCGaez02kG6QAC1ODlXjDTevrGqNByaNhBAAAAfUGb2UmoQWyZ\n",
       "TAhn//6eEABY998+kckcAmlLhaPJaFVbia6F1l9sqRTXXqEyAAml5PbJtUkuoK/S/YtQhzHPJXM0\n",
       "isRbgE2dRArpZfcQ22D/plB6Y58GAZteQTsy425l07kwAQG+Yzchok3yyvSLepHKAeO7qttGOf5t\n",
       "BOy+AAAAMUGf90UVLCP/ArIUHB6p+6au09Z7rumZsAB8C+B2PEMU6hyDlYqhdeMCpLCTBb1SewEA\n",
       "AAAlAZ4WdEf/BDGI4k8GTMjcSYAFqKhygvVIKoXYsBVYTkt3Zbl6YQAAAB8BnhhqR/8EM+RCGaez\n",
       "08Quqj7PDoczApUmpZa9coT8AAAAWkGaHUmoQWyZTAhn//6eEABYyl4ShHANX14JF3jNtu2KN8a8\n",
       "T9gZcg8YzRfN2/na2TT5p/QQRHCuxieQE0b+2IjrveJ2Cu7AUUcZhXmMsQ8TVSmWgTu/+RTz4QAA\n",
       "AChBnjtFFSwj/wKyFBweqfumrtPVzUSaaCiOUa2yLd+6Fv1yh5GzCZBwAAAAGgGeWnRH/wQxiOJP\n",
       "BkzJh094z27UMOGTCN7BAAAAIQGeXGpH/wQz5EIZp7PTcaMXV/Y0AJW6Yo9flHcGoXcTBwAAAGFB\n",
       "mkFJqEFsmUwIZ//+nhAAVok29AAdI7q9a3oTC7aJZRlr6tYivVRQGWTgc0jHlxRpW9AJZzmIxxff\n",
       "Afnev+4HscHDQvyaXmbldCLwR+othWHDdAlJ0HbmAB2bz79fQPL4AAAAJUGef0UVLCP/ArIUHB6p\n",
       "+6au09Mz2Ihh7KS9zSAfo46zXynntWAAAAAdAZ6edEf/BDGI4k8GTMg0yHvL8tjwyVg7MPO7NAUA\n",
       "AAAeAZ6Aakf/BDPkQhmns9L0lcNYbCxWbpGeLAslOFEQAAAAWkGahUmoQWyZTAhn//6eEACo+7+D\n",
       "Z0Zzbg+e8AVkb9kZHpnGM0U6lS3HZl/MCsDEb/ypSNn5gE4cD/6L777lU07zr2cFT3FXhyNbcdog\n",
       "cyxuo0y+fGnsPYv9sQAAACNBnqNFFSwj/wKyFBweqfumrtPKHgr9QGuhmhh8WgZqUST2jAAAABwB\n",
       "nsJ0R/8EMYjiTwZMxpQKU6I+IMq106NGai05AAAAGAGexGpH/wQz5EIZp7PSxBMl259Cr7EFNwAA\n",
       "AGdBmslJqEFsmUwIZ//+nhAApHu/g91skgCKd61QqLxD2NLkRe0ZHbF+lmo792SkTzWxkOr0m/2N\n",
       "PxDHtTQV7+obFlh1UyDfcGfXkYYmC9yhgvydLLtWDbuCi7UcPrLV391PplU85CG/AAAALkGe50UV\n",
       "LCP/ArIUHB6p+6au1aKu5gaAAs3/E6ObeWpNgQ2BmAXVTyJNBzHIjckAAAAhAZ8GdEf/BDGI4k8G\n",
       "TOta3udFBgACY1UWxb4/NCzyHnBQAAAAIAGfCGpH/wQz5EIZp7Ph1/rdzAAH7j41hrDWMurT9bhA\n",
       "AAAAYUGbDUmoQWyZTAhn//6eEABT8bjgCJBBc4pbJE99+iVth1xalAdnuJEytlFDMWqQKbOR3nf5\n",
       "gXqqjLpA2/5li3+ctriHMtMdX1zYsAr076Efg4gMePgaAxOX2mecYFKkZcEAAAAxQZ8rRRUsI/8C\n",
       "shQcHqn7pq7Vs+Zx/kJVI67NAAbGLzpxx+wfIziJBgMp2yRo5BLUgAAAACMBn0p0R/8EMYjiTwZM\n",
       "x5gWx8gAXFaN9FxewhkNcTOVns7xQAAAABkBn0xqR/8EM+RCGaezy4cYU5ciypRU25GBAAAAT0Gb\n",
       "UUmoQWyZTAhn//6eEABRsnRgCJj7Ns67RZFlg2+yl9tBjKic2c9GM79U2pXQr9KFN3rhzF5Wh5o/\n",
       "Vl7rJjjinxlGxLFN5ex6HoO9CkkAAAAwQZ9vRRUsI/8CshQcHqn7pq7Voq583dACWn+shZrq/657\n",
       "+kCZAi9YQrem08711oNbAAAAGgGfjnRH/wQxiOJPBkzriXLkIPdliDBaHJNcAAAAJAGfkGpH/wQz\n",
       "5EIZp7Ph1+kM20gAA/nV6BQIbQ0eKfhAv0yUwAAAAD1Bm5VJqEFsmUwIX//+jLAAUtx+q0ACndBg\n",
       "5JCj08ujcE6n5YJcpCTuNPOJatoNDFRzu2A397txHVIfIK2BAAAAI0Gfs0UVLCP/ArIUHB6p+6au\n",
       "1bPmJwRHXxhTFSGeV7Nu1O1oAAAAFQGf0nRH/wQxiOJPBkykYbqI8k91RAAAABUBn9RqR/8EM+RC\n",
       "GaezxIjrzRkXXTMAAAA1QZvZSahBbJlMCF///oywAFSx22AGuhopLTiEXDckizl2+LtCaXsyrKvE\n",
       "dgOhB435ZcQ0YV8AAAAhQZ/3RRUsI/8CshQcHqn7pq7Voq7l6ETQ7mgVRlx6umshAAAAFQGeFnRH\n",
       "/wQxiOJPBkykYbqI8k91RQAAABcBnhhqR/8EM+RCGaez0ybr1wQ4XPXu6AAAAFJBmh1JqEFsmUwI\n",
       "X//+jLAAVvH6MAF0E0tJlL5rqArbkZmUWgttqVsshw9g0KN//TgUfdh7qz9Fk5XXwK/tPkN8pEjC\n",
       "/kAklFq1462ek3BkZEbVAAAAKkGeO0UVLCP/ArIUHB6p+6au1aKvBlA34ACaAh2D9pSF1IZcBKRO\n",
       "0ciKaAAAACIBnlp0R/8EMYjiTwZM64l7dvAAAfuH9gtvmzwduZcP82fBAAAAIwGeXGpH/wQz5EIZ\n",
       "p7Ph1/tK44ACauxWDw4RBuGvv2Id9d9BAAAALUGaQUmoQWyZTAhP//3xAAM2rb4AJUkQb+ly0b8f\n",
       "yDKT/ac+FOwXzcFyAyBCJgAAACtBnn9FFSwj/wKyFBweqfumrtWz5n0iJKAA8gaF7IYMigl+pVv+\n",
       "5ulcFwSsAAAAGgGennRH/wQxiOJPBkzriXyYyPnljhD5pB+pAAAAIgGegGpH/wQz5EIZp7Ph1/sv\n",
       "dAwAEl0KPRRzaIJxBMr5aGYAAAATQZqDSahBbJlMFEx//IQAAAMBswAAABsBnqJqR/8ENPk4v9ho\n",
       "XBKcV6GIK7oHjEMgMbAAAAfWbW9vdgAAAGxtdmhkAAAAAAAAAAAAAAAAAAAD6AAAB9AAAQAAAQAA\n",
       "AAAAAAAAAAAAAAEAAAAAAAAAAAAAAAAAAAABAAAAAAAAAAAAAAAAAABAAAAAAAAAAAAAAAAAAAAA\n",
       "AAAAAAAAAAAAAAAAAAAAAgAABwB0cmFrAAAAXHRraGQAAAADAAAAAAAAAAAAAAABAAAAAAAAB9AA\n",
       "AAAAAAAAAAAAAAAAAAAAAAEAAAAAAAAAAAAAAAAAAAABAAAAAAAAAAAAAAAAAABAAAAAAbAAAAEg\n",
       "AAAAAAAkZWR0cwAAABxlbHN0AAAAAAAAAAEAAAfQAAACAAABAAAAAAZ4bWRpYQAAACBtZGhkAAAA\n",
       "AAAAAAAAAAAAAAAyAAAAZABVxAAAAAAALWhkbHIAAAAAAAAAAHZpZGUAAAAAAAAAAAAAAABWaWRl\n",
       "b0hhbmRsZXIAAAAGI21pbmYAAAAUdm1oZAAAAAEAAAAAAAAAAAAAACRkaW5mAAAAHGRyZWYAAAAA\n",
       "AAAAAQAAAAx1cmwgAAAAAQAABeNzdGJsAAAAs3N0c2QAAAAAAAAAAQAAAKNhdmMxAAAAAAAAAAEA\n",
       "AAAAAAAAAAAAAAAAAAAAAbABIABIAAAASAAAAAAAAAABAAAAAAAAAAAAAAAAAAAAAAAAAAAAAAAA\n",
       "AAAAAAAAAAAAGP//AAAAMWF2Y0MBZAAe/+EAGGdkAB6s2UGwloQAAAMABAAAAwGQPFi2WAEABmjr\n",
       "48siwAAAABx1dWlka2hA8l8kT8W6OaUbzwMj8wAAAAAAAAAYc3R0cwAAAAAAAAABAAAAZAAAAQAA\n",
       "AAAUc3RzcwAAAAAAAAABAAAAAQAAAyhjdHRzAAAAAAAAAGMAAAABAAACAAAAAAEAAAUAAAAAAQAA\n",
       "AgAAAAABAAAAAAAAAAEAAAEAAAAAAQAAAgAAAAABAAAFAAAAAAEAAAIAAAAAAQAAAAAAAAABAAAB\n",
       "AAAAAAEAAAUAAAAAAQAAAgAAAAABAAAAAAAAAAEAAAEAAAAAAgAAAgAAAAABAAAFAAAAAAEAAAIA\n",
       "AAAAAQAAAAAAAAABAAABAAAAAAEAAAIAAAAAAQAABQAAAAABAAACAAAAAAEAAAAAAAAAAQAAAQAA\n",
       "AAABAAACAAAAAAEAAAUAAAAAAQAAAgAAAAABAAAAAAAAAAEAAAEAAAAAAQAABQAAAAABAAACAAAA\n",
       "AAEAAAAAAAAAAQAAAQAAAAABAAAFAAAAAAEAAAIAAAAAAQAAAAAAAAABAAABAAAAAAEAAAUAAAAA\n",
       "AQAAAgAAAAABAAAAAAAAAAEAAAEAAAAAAQAABQAAAAABAAACAAAAAAEAAAAAAAAAAQAAAQAAAAAB\n",
       "AAAFAAAAAAEAAAIAAAAAAQAAAAAAAAABAAABAAAAAAEAAAUAAAAAAQAAAgAAAAABAAAAAAAAAAEA\n",
       "AAEAAAAAAQAABQAAAAABAAACAAAAAAEAAAAAAAAAAQAAAQAAAAABAAAFAAAAAAEAAAIAAAAAAQAA\n",
       "AAAAAAABAAABAAAAAAEAAAUAAAAAAQAAAgAAAAABAAAAAAAAAAEAAAEAAAAAAQAABQAAAAABAAAC\n",
       "AAAAAAEAAAAAAAAAAQAAAQAAAAABAAAFAAAAAAEAAAIAAAAAAQAAAAAAAAABAAABAAAAAAEAAAUA\n",
       "AAAAAQAAAgAAAAABAAAAAAAAAAEAAAEAAAAAAQAABQAAAAABAAACAAAAAAEAAAAAAAAAAQAAAQAA\n",
       "AAABAAAFAAAAAAEAAAIAAAAAAQAAAAAAAAABAAABAAAAAAEAAAUAAAAAAQAAAgAAAAABAAAAAAAA\n",
       "AAEAAAEAAAAAAQAABQAAAAABAAACAAAAAAEAAAAAAAAAAQAAAQAAAAABAAAFAAAAAAEAAAIAAAAA\n",
       "AQAAAAAAAAABAAABAAAAAAEAAAMAAAAAAQAAAQAAAAAcc3RzYwAAAAAAAAABAAAAAQAAAGQAAAAB\n",
       "AAABpHN0c3oAAAAAAAAAAAAAAGQAADTuAAADmQAAAFgAAABMAAAAMgAAAI0AAAEoAAAAOAAAACMA\n",
       "AAAtAAABNAAAAC8AAAArAAAAJwAAAJcAAAA3AAAAkwAAADMAAAArAAAALAAAAD4AAACOAAAALwAA\n",
       "ACwAAAAeAAAALQAAAEUAAAApAAAAHwAAACAAAABDAAAAJQAAACcAAAAbAAAAaAAAADMAAAAmAAAA\n",
       "IgAAAFUAAAA0AAAALwAAACEAAABhAAAAKgAAABwAAAAdAAAAXgAAAC8AAAAmAAAAHAAAAFEAAAA1\n",
       "AAAAJgAAACYAAACBAAAANQAAACkAAAAjAAAAXgAAACwAAAAeAAAAJQAAAGUAAAApAAAAIQAAACIA\n",
       "AABeAAAAJwAAACAAAAAcAAAAawAAADIAAAAlAAAAJAAAAGUAAAA1AAAAJwAAAB0AAABTAAAANAAA\n",
       "AB4AAAAoAAAAQQAAACcAAAAZAAAAGQAAADkAAAAlAAAAGQAAABsAAABWAAAALgAAACYAAAAnAAAA\n",
       "MQAAAC8AAAAeAAAAJgAAABcAAAAfAAAAFHN0Y28AAAAAAAAAAQAAACwAAABidWR0YQAAAFptZXRh\n",
       "AAAAAAAAACFoZGxyAAAAAAAAAABtZGlyYXBwbAAAAAAAAAAAAAAAAC1pbHN0AAAAJal0b28AAAAd\n",
       "ZGF0YQAAAAEAAAAATGF2ZjU2LjQwLjEwMQ==\n",
       "\">\n",
       "  Your browser does not support the video tag.\n",
       "</video>"
      ]
     },
     "metadata": {},
     "output_type": "display_data"
    }
   ],
   "source": [
    "try:\n",
    "    display_html(HTML(anim.to_html5_video()))\n",
    "except (RuntimeError, KeyError):\n",
    "    # In case the build-in renderers are unaviable, fall back to\n",
    "    # a custom one, that doesn't require external libraries\n",
    "    anim.save(None, writer=matplotlib_utils.SimpleMovieWriter(0.001))"
   ]
  },
  {
   "cell_type": "code",
   "execution_count": null,
   "metadata": {
    "collapsed": true
   },
   "outputs": [],
   "source": []
  }
 ],
 "metadata": {
  "kernelspec": {
   "display_name": "Python 3",
   "language": "python",
   "name": "python3"
  },
  "language_info": {
   "codemirror_mode": {
    "name": "ipython",
    "version": 3
   },
   "file_extension": ".py",
   "mimetype": "text/x-python",
   "name": "python",
   "nbconvert_exporter": "python",
   "pygments_lexer": "ipython3",
   "version": "3.6.2"
  }
 },
 "nbformat": 4,
 "nbformat_minor": 1
}
