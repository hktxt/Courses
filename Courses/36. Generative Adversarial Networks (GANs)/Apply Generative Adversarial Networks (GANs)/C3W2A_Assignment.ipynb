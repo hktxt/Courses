{
 "cells": [
  {
   "cell_type": "markdown",
   "metadata": {
    "colab_type": "text",
    "id": "1czVdIlqnImH"
   },
   "source": [
    "# U-Net"
   ]
  },
  {
   "cell_type": "markdown",
   "metadata": {
    "colab_type": "text",
    "id": "1KD3ZgLs80vY"
   },
   "source": [
    "### Goals\n",
    "In this notebook, you're going to implement a U-Net for a biomedical imaging segmentation task. Specifically, you're going to be labeling neurons, so one might call this a neural neural network! ;) \n",
    "\n",
    "Note that this is not a GAN, generative model, or unsupervised learning task. This is a supervised learning task, so there's only one correct answer (like a classifier!) You will see how this component underlies the Generator component of Pix2Pix in the next notebook this week.\n",
    "\n",
    "### Learning Objectives\n",
    "1.   Implement your own U-Net.\n",
    "2.   Observe your U-Net's performance on a challenging segmentation task.\n"
   ]
  },
  {
   "cell_type": "markdown",
   "metadata": {
    "colab_type": "text",
    "id": "wU8DDM6l9rZb"
   },
   "source": [
    "## Getting Started\n",
    "You will start by importing libraries, defining a visualization function, and getting the neural dataset that you will be using.\n",
    "\n",
    "#### Dataset\n",
    "For this notebook, you will be using a dataset of electron microscopy\n",
    "images and segmentation data. The information about the dataset you'll be using can be found [here](https://www.ini.uzh.ch/~acardona/data.html)! \n",
    "\n",
    "> Arganda-Carreras et al. \"Crowdsourcing the creation of image\n",
    "segmentation algorithms for connectomics\". Front. Neuroanat. 2015. https://www.frontiersin.org/articles/10.3389/fnana.2015.00142/full\n",
    "\n",
    "![dataset example](https://drive.google.com/uc?id=1pqqpGwj6GKwICIKLuXyknSGtLay1edJO)\n"
   ]
  },
  {
   "cell_type": "code",
   "execution_count": 3,
   "metadata": {
    "colab": {},
    "colab_type": "code",
    "id": "JfkorNJrnmNO"
   },
   "outputs": [],
   "source": [
    "import torch\n",
    "from torch import nn\n",
    "from tqdm.auto import tqdm\n",
    "from torchvision import transforms\n",
    "from torchvision.utils import make_grid\n",
    "from torch.utils.data import DataLoader\n",
    "import matplotlib.pyplot as plt\n",
    "torch.manual_seed(0)\n",
    "\n",
    "def show_tensor_images(image_tensor, num_images=25, size=(1, 28, 28)):\n",
    "    '''\n",
    "    Function for visualizing images: Given a tensor of images, number of images, and\n",
    "    size per image, plots and prints the images in an uniform grid.\n",
    "    '''\n",
    "    # image_shifted = (image_tensor + 1) / 2\n",
    "    image_shifted = image_tensor\n",
    "    image_unflat = image_shifted.detach().cpu().view(-1, *size)\n",
    "    image_grid = make_grid(image_unflat[:num_images], nrow=4)\n",
    "    plt.imshow(image_grid.permute(1, 2, 0).squeeze())\n",
    "    plt.show()"
   ]
  },
  {
   "cell_type": "markdown",
   "metadata": {
    "colab_type": "text",
    "id": "ElJ7n7x1itOX"
   },
   "source": [
    "## U-Net Architecture\n",
    "Now you can build your U-Net from its components. The figure below is from the paper, [*U-Net: Convolutional Networks for Biomedical Image Segmentation*](https://arxiv.org/abs/1505.04597), by Ronneberger et al. 2015. It shows the U-Net architecture and how it contracts and then expands.\n",
    "\n",
    "<!-- \"[i]t consists of a contracting path (left side) and an expansive path (right side)\" (Renneberger, 2015) -->\n",
    "\n",
    "![Figure 1 from the paper, U-Net: Convolutional Networks for Biomedical Image Segmentation](https://drive.google.com/uc?export=view&id=1XgJRexE2CmsetRYyTLA7L8dsEwx7aQZY)\n",
    "\n",
    "In other words, images are first fed through many convolutional layers which reduce height and width while increasing the channels, which the authors refer to as the \"contracting path.\" For example, a set of two 2 x 2 convolutions with a stride of 2, will take a 1 x 28 x 28 (channels, height, width) grayscale image and result in a 2 x 14 x 14 representation. The \"expanding path\" does the opposite, gradually growing the image with fewer and fewer channels."
   ]
  },
  {
   "cell_type": "markdown",
   "metadata": {
    "colab_type": "text",
    "id": "l3UVfNXvPC15"
   },
   "source": [
    "## Contracting Path\n",
    "You will first implement the contracting blocks for the contracting path. This path is the encoder section of the U-Net, which has several downsampling steps as part of it. The authors give more detail of the remaining parts in the following paragraph from the paper (Renneberger, 2015):\n",
    "\n",
    ">The contracting path follows the typical architecture of a convolutional network. It consists of the repeated application of two 3 x 3 convolutions (unpadded convolutions), each followed by a rectified linear unit (ReLU) and a 2 x 2 max pooling operation with stride 2 for downsampling. At each downsampling step we double the number of feature channels.\n",
    "\n",
    "<details>\n",
    "<summary>\n",
    "<font size=\"3\" color=\"green\">\n",
    "<b>Optional hints for <code><font size=\"4\">ContractingBlock</font></code></b>\n",
    "</font>\n",
    "</summary>\n",
    "\n",
    "1.    Both convolutions should use 3 x 3 kernels.\n",
    "2.    The max pool should use a 2 x 2 kernel with a stride 2.\n",
    "</details>"
   ]
  },
  {
   "cell_type": "code",
   "execution_count": 8,
   "metadata": {
    "colab": {},
    "colab_type": "code",
    "id": "xvY4ZNyUviY9"
   },
   "outputs": [],
   "source": [
    "# UNQ_C1 (UNIQUE CELL IDENTIFIER, DO NOT EDIT)\n",
    "# GRADED CLASS: ContractingBlock\n",
    "class ContractingBlock(nn.Module):\n",
    "    '''\n",
    "    ContractingBlock Class\n",
    "    Performs two convolutions followed by a max pool operation.\n",
    "    Values:\n",
    "        input_channels: the number of channels to expect from a given input\n",
    "    '''\n",
    "    def __init__(self, input_channels):\n",
    "        super(ContractingBlock, self).__init__()\n",
    "        # You want to double the number of channels in the first convolution\n",
    "        # and keep the same number of channels in the second.\n",
    "        #### START CODE HERE ####\n",
    "        self.conv1 = nn.Conv2d(input_channels, input_channels*2, kernel_size=3)\n",
    "        self.conv2 = nn.Conv2d(input_channels*2, input_channels*2, kernel_size=3)\n",
    "        self.activation = nn.ReLU()\n",
    "        self.maxpool = nn.MaxPool2d(kernel_size=2, stride=2)\n",
    "        #### END CODE HERE ####\n",
    "\n",
    "    def forward(self, x):\n",
    "        '''\n",
    "        Function for completing a forward pass of ContractingBlock: \n",
    "        Given an image tensor, completes a contracting block and returns the transformed tensor.\n",
    "        Parameters:\n",
    "            x: image tensor of shape (batch size, channels, height, width)\n",
    "        '''\n",
    "        x = self.conv1(x)\n",
    "        x = self.activation(x)\n",
    "        x = self.conv2(x)\n",
    "        x = self.activation(x)\n",
    "        x = self.maxpool(x)\n",
    "        return x\n",
    "    \n",
    "    # Required for grading\n",
    "    def get_self(self):\n",
    "        return self"
   ]
  },
  {
   "cell_type": "code",
   "execution_count": 9,
   "metadata": {
    "colab": {
     "base_uri": "https://localhost:8080/",
     "height": 34
    },
    "colab_type": "code",
    "id": "F8tXrgXkMdcV",
    "outputId": "01f30eef-9de1-4984-c2d4-b4ca40794d5e"
   },
   "outputs": [
    {
     "name": "stdout",
     "output_type": "stream",
     "text": [
      "Success!\n"
     ]
    }
   ],
   "source": [
    "#UNIT TEST\n",
    "def test_contracting_block(test_samples=100, test_channels=10, test_size=50):\n",
    "    test_block = ContractingBlock(test_channels)\n",
    "    test_in = torch.randn(test_samples, test_channels, test_size, test_size)\n",
    "    test_out_conv1 = test_block.conv1(test_in)\n",
    "    # Make sure that the first convolution has the right shape\n",
    "    assert tuple(test_out_conv1.shape) == (test_samples, test_channels * 2, test_size - 2, test_size - 2)\n",
    "    # Make sure that the right activation is used\n",
    "    assert torch.all(test_block.activation(test_out_conv1) >= 0)\n",
    "    assert torch.max(test_block.activation(test_out_conv1)) >= 1\n",
    "    test_out_conv2 = test_block.conv2(test_out_conv1)\n",
    "    # Make sure that the second convolution has the right shape\n",
    "    assert tuple(test_out_conv2.shape) == (test_samples, test_channels * 2, test_size - 4, test_size - 4)\n",
    "    test_out = test_block(test_in)\n",
    "    # Make sure that the pooling has the right shape\n",
    "    assert tuple(test_out.shape) == (test_samples, test_channels * 2, test_size // 2 - 2, test_size // 2 - 2)\n",
    "\n",
    "test_contracting_block()\n",
    "test_contracting_block(10, 9, 8)\n",
    "print(\"Success!\")"
   ]
  },
  {
   "cell_type": "markdown",
   "metadata": {
    "colab_type": "text",
    "id": "ONEnbpQcvi_p"
   },
   "source": [
    "## Expanding Path\n",
    "Next, you will implement the expanding blocks for the expanding path. This is the decoding section of U-Net which has several upsampling steps as part of it. In order to do this, you'll also need to write a crop function. This is so you can crop the image from the *contracting path* and concatenate it to the current image on the expanding path—this is to form a skip connection. Again, the details are from the paper (Renneberger, 2015):\n",
    "\n",
    ">Every step in the expanding path consists of an upsampling of the feature map followed by a 2 x 2 convolution (“up-convolution”) that halves the number of feature channels, a concatenation with the correspondingly cropped feature map from the contracting path, and two 3 x 3 convolutions, each followed by a ReLU. The cropping is necessary due to the loss of border pixels in every convolution.\n",
    "\n",
    "<!-- so that the expanding block can resize the input from the contracting block can have the same size as the input from the previous layer -->\n",
    "\n",
    "*Fun fact: later models based on this architecture often use padding in the convolutions to prevent the size of the image from changing outside of the upsampling / downsampling steps!*\n",
    "\n",
    "<details>\n",
    "<summary>\n",
    "<font size=\"3\" color=\"green\">\n",
    "<b>Optional hint for <code><font size=\"4\">ExpandingBlock</font></code></b>\n",
    "</font>\n",
    "</summary>\n",
    "\n",
    "1.    The concatenation means the number of channels goes back to being input_channels, so you need to halve it again for the next convolution.\n",
    "</details>"
   ]
  },
  {
   "cell_type": "code",
   "execution_count": 47,
   "metadata": {
    "colab": {},
    "colab_type": "code",
    "id": "oM0mKJah4dIs"
   },
   "outputs": [],
   "source": [
    "# UNQ_C2 (UNIQUE CELL IDENTIFIER, DO NOT EDIT)\n",
    "# GRADED FUNCTION: crop\n",
    "def crop(image, new_shape):\n",
    "    '''\n",
    "    Function for cropping an image tensor: Given an image tensor and the new shape,\n",
    "    crops to the center pixels.\n",
    "    Parameters:\n",
    "        image: image tensor of shape (batch size, channels, height, width)\n",
    "        new_shape: a torch.Size object with the shape you want x to have\n",
    "    '''\n",
    "    # There are many ways to implement this crop function, but it's what allows\n",
    "    # the skip connection to function as intended with two differently sized images!\n",
    "    #### START CODE HERE ####\n",
    "    h, w = image.shape[2], image.shape[3]\n",
    "    h_, w_ = new_shape[2], new_shape[3]\n",
    "    hs = (h - h_) // 2\n",
    "    he = hs + h_\n",
    "    ws = (w - w_) // 2\n",
    "    we = ws + w_\n",
    "    cropped_image = image[..., hs:he, ws:we]\n",
    "    #### END CODE HERE ####\n",
    "    return cropped_image"
   ]
  },
  {
   "cell_type": "code",
   "execution_count": 49,
   "metadata": {},
   "outputs": [
    {
     "name": "stdout",
     "output_type": "stream",
     "text": [
      "Success!\n"
     ]
    }
   ],
   "source": [
    "#UNIT TEST\n",
    "def test_expanding_block_crop(test_samples=100, test_channels=10, test_size=100):\n",
    "    # Make sure that the crop function is the right shape\n",
    "    skip_con_x = torch.randn(test_samples, test_channels, test_size + 6, test_size + 6)\n",
    "    x = torch.randn(test_samples, test_channels, test_size, test_size)\n",
    "    cropped = crop(skip_con_x, x.shape)\n",
    "    assert tuple(cropped.shape) == (test_samples, test_channels, test_size, test_size)\n",
    "\n",
    "    # Make sure that the crop function takes the right area\n",
    "    test_meshgrid = torch.meshgrid([torch.arange(0, test_size), torch.arange(0, test_size)])\n",
    "    test_meshgrid = test_meshgrid[0] + test_meshgrid[1]\n",
    "    test_meshgrid = test_meshgrid[None, None, :, :].float()\n",
    "    cropped = crop(test_meshgrid, torch.Size([1, 1, test_size // 2, test_size // 2]))\n",
    "    assert cropped.max() == (test_size - 1) * 2 - test_size // 2\n",
    "    assert cropped.min() == test_size // 2\n",
    "    assert cropped.mean() == test_size - 1\n",
    "\n",
    "    test_meshgrid = torch.meshgrid([torch.arange(0, test_size), torch.arange(0, test_size)])\n",
    "    test_meshgrid = test_meshgrid[0] + test_meshgrid[1]\n",
    "    crop_size = 5\n",
    "    test_meshgrid = test_meshgrid[None, None, :, :].float()\n",
    "    cropped = crop(test_meshgrid, torch.Size([1, 1, crop_size, crop_size]))\n",
    "    assert cropped.max() < (test_size + crop_size) and cropped.max() > test_size\n",
    "    #assert cropped.min() > (test_size - crop_size) and cropped.min() < test_size\n",
    "    assert abs(cropped.mean() - test_size) <= 2\n",
    "\n",
    "test_expanding_block_crop()\n",
    "print(\"Success!\")"
   ]
  },
  {
   "cell_type": "code",
   "execution_count": 66,
   "metadata": {},
   "outputs": [],
   "source": [
    "# UNQ_C3 (UNIQUE CELL IDENTIFIER, DO NOT EDIT)\n",
    "# GRADED CLASS: ExpandingBlock\n",
    "class ExpandingBlock(nn.Module):\n",
    "    '''\n",
    "    ExpandingBlock Class\n",
    "    Performs an upsampling, a convolution, a concatenation of its two inputs,\n",
    "    followed by two more convolutions.\n",
    "    Values:\n",
    "        input_channels: the number of channels to expect from a given input\n",
    "    '''\n",
    "    def __init__(self, input_channels):\n",
    "        super(ExpandingBlock, self).__init__()\n",
    "        # \"Every step in the expanding path consists of an upsampling of the feature map\"\n",
    "        self.upsample = nn.Upsample(scale_factor=2, mode='bilinear', align_corners=True)\n",
    "        # \"followed by a 2x2 convolution that halves the number of feature channels\"\n",
    "        # \"a concatenation with the correspondingly cropped feature map from the contracting path\"\n",
    "        # \"and two 3x3 convolutions\"\n",
    "        #### START CODE HERE ####\n",
    "        self.conv1 = nn.Conv2d(input_channels, input_channels//2, kernel_size=2)\n",
    "        self.conv2 = nn.Conv2d(input_channels, input_channels//2, kernel_size=3)\n",
    "        self.conv3 = nn.Conv2d(input_channels//2, input_channels//2, kernel_size=3)\n",
    "        #### END CODE HERE ####\n",
    "        self.activation = nn.ReLU() # \"each followed by a ReLU\"\n",
    " \n",
    "    def forward(self, x, skip_con_x):\n",
    "        '''\n",
    "        Function for completing a forward pass of ExpandingBlock: \n",
    "        Given an image tensor, completes an expanding block and returns the transformed tensor.\n",
    "        Parameters:\n",
    "            x: image tensor of shape (batch size, channels, height, width)\n",
    "            skip_con_x: the image tensor from the contracting path (from the opposing block of x)\n",
    "                    for the skip connection\n",
    "        '''\n",
    "        x = self.upsample(x)\n",
    "        x = self.conv1(x)\n",
    "        skip_con_x = crop(skip_con_x, x.shape)\n",
    "        x = torch.cat([x, skip_con_x], axis=1)\n",
    "        x = self.conv2(x)\n",
    "        x = self.activation(x)\n",
    "        x = self.conv3(x)\n",
    "        x = self.activation(x)\n",
    "        return x\n",
    "    \n",
    "    # Required for grading\n",
    "    def get_self(self):\n",
    "        return self"
   ]
  },
  {
   "cell_type": "code",
   "execution_count": 67,
   "metadata": {
    "colab": {
     "base_uri": "https://localhost:8080/",
     "height": 34
    },
    "colab_type": "code",
    "id": "QlZYSY11WbiG",
    "outputId": "837403a8-c73c-4c42-c306-1c6524fd6a98"
   },
   "outputs": [
    {
     "name": "stdout",
     "output_type": "stream",
     "text": [
      "Success!\n"
     ]
    }
   ],
   "source": [
    "#UNIT TEST\n",
    "def test_expanding_block(test_samples=100, test_channels=10, test_size=50):\n",
    "    test_block = ExpandingBlock(test_channels)\n",
    "    skip_con_x = torch.randn(test_samples, test_channels // 2, test_size * 2 + 6, test_size * 2 + 6)\n",
    "    x = torch.randn(test_samples, test_channels, test_size, test_size)\n",
    "    x = test_block.upsample(x)\n",
    "    x = test_block.conv1(x)\n",
    "    # Make sure that the first convolution produces the right shape\n",
    "    assert tuple(x.shape) == (test_samples, test_channels // 2,  test_size * 2 - 1, test_size * 2 - 1)\n",
    "    orginal_x = crop(skip_con_x, x.shape)\n",
    "    x = torch.cat([x, orginal_x], axis=1)\n",
    "    x = test_block.conv2(x)\n",
    "    # Make sure that the second convolution produces the right shape\n",
    "    assert tuple(x.shape) == (test_samples, test_channels // 2,  test_size * 2 - 3, test_size * 2 - 3)\n",
    "    x = test_block.conv3(x)\n",
    "    # Make sure that the final convolution produces the right shape\n",
    "    assert tuple(x.shape) == (test_samples, test_channels // 2,  test_size * 2 - 5, test_size * 2 - 5)\n",
    "    x = test_block.activation(x)\n",
    "\n",
    "test_expanding_block()\n",
    "print(\"Success!\")"
   ]
  },
  {
   "cell_type": "markdown",
   "metadata": {
    "colab_type": "text",
    "id": "5FS_ABXD4dpT"
   },
   "source": [
    "## Final Layer\n",
    "Now you will write the final feature mapping block, which takes in a tensor with arbitrarily many tensors and produces a tensor with the same number of pixels but with the correct number of output channels. From the paper (Renneberger, 2015):\n",
    "\n",
    ">At the final layer a 1x1 convolution is used to map each 64-component feature vector to the desired number of classes. In total the network has 23 convolutional layers.\n"
   ]
  },
  {
   "cell_type": "code",
   "execution_count": 68,
   "metadata": {
    "colab": {},
    "colab_type": "code",
    "id": "GXCDIjai-0C5"
   },
   "outputs": [],
   "source": [
    "# UNQ_C4 (UNIQUE CELL IDENTIFIER, DO NOT EDIT)\n",
    "# GRADED CLASS: FeatureMapBlock\n",
    "class FeatureMapBlock(nn.Module):\n",
    "    '''\n",
    "    FeatureMapBlock Class\n",
    "    The final layer of a UNet - \n",
    "    maps each pixel to a pixel with the correct number of output dimensions\n",
    "    using a 1x1 convolution.\n",
    "    Values:\n",
    "        input_channels: the number of channels to expect from a given input\n",
    "    '''\n",
    "    def __init__(self, input_channels, output_channels):\n",
    "        super(FeatureMapBlock, self).__init__()\n",
    "        # \"Every step in the expanding path consists of an upsampling of the feature map\"\n",
    "        #### START CODE HERE ####\n",
    "        self.conv = nn.Conv2d(input_channels, output_channels, kernel_size=1)\n",
    "        #### END CODE HERE ####\n",
    "\n",
    "    def forward(self, x):\n",
    "        '''\n",
    "        Function for completing a forward pass of FeatureMapBlock: \n",
    "        Given an image tensor, returns it mapped to the desired number of channels.\n",
    "        Parameters:\n",
    "            x: image tensor of shape (batch size, channels, height, width)\n",
    "        '''\n",
    "        x = self.conv(x)\n",
    "        return x"
   ]
  },
  {
   "cell_type": "code",
   "execution_count": 69,
   "metadata": {
    "colab": {
     "base_uri": "https://localhost:8080/",
     "height": 34
    },
    "colab_type": "code",
    "id": "gDkrByFGjkdE",
    "outputId": "443034ae-67de-4df8-b5e0-510321d4837e"
   },
   "outputs": [
    {
     "name": "stdout",
     "output_type": "stream",
     "text": [
      "Success!\n"
     ]
    }
   ],
   "source": [
    "# UNIT TEST\n",
    "assert tuple(FeatureMapBlock(10, 60)(torch.randn(1, 10, 10, 10)).shape) == (1, 60, 10, 10)\n",
    "print(\"Success!\")"
   ]
  },
  {
   "cell_type": "markdown",
   "metadata": {
    "colab_type": "text",
    "id": "EeFmtgvD__eA"
   },
   "source": [
    "## U-Net\n",
    "\n",
    "Now you can put it all together! Here, you'll write a `UNet` class which will combine a series of the three kinds of blocks you've implemented."
   ]
  },
  {
   "cell_type": "code",
   "execution_count": 78,
   "metadata": {
    "colab": {},
    "colab_type": "code",
    "id": "Y8iyZqtVABPM"
   },
   "outputs": [],
   "source": [
    "# UNQ_C5 (UNIQUE CELL IDENTIFIER, DO NOT EDIT)\n",
    "# GRADED CLASS: UNet\n",
    "class UNet(nn.Module):\n",
    "    '''\n",
    "    UNet Class\n",
    "    A series of 4 contracting blocks followed by 4 expanding blocks to \n",
    "    transform an input image into the corresponding paired image, with an upfeature\n",
    "    layer at the start and a downfeature layer at the end\n",
    "    Values:\n",
    "        input_channels: the number of channels to expect from a given input\n",
    "        output_channels: the number of channels to expect for a given output\n",
    "    '''\n",
    "    def __init__(self, input_channels, output_channels, hidden_channels=64):\n",
    "        super(UNet, self).__init__()\n",
    "        # \"Every step in the expanding path consists of an upsampling of the feature map\"\n",
    "        self.upfeature = FeatureMapBlock(input_channels, hidden_channels)\n",
    "        self.contract1 = ContractingBlock(hidden_channels)\n",
    "        self.contract2 = ContractingBlock(hidden_channels * 2)\n",
    "        self.contract3 = ContractingBlock(hidden_channels * 4)\n",
    "        self.contract4 = ContractingBlock(hidden_channels * 8)\n",
    "        self.expand1 = ExpandingBlock(hidden_channels * 16)\n",
    "        self.expand2 = ExpandingBlock(hidden_channels * 8)\n",
    "        self.expand3 = ExpandingBlock(hidden_channels * 4)\n",
    "        self.expand4 = ExpandingBlock(hidden_channels * 2)\n",
    "        self.downfeature = FeatureMapBlock(hidden_channels, output_channels)\n",
    "\n",
    "    def forward(self, x):\n",
    "        '''\n",
    "        Function for completing a forward pass of UNet: \n",
    "        Given an image tensor, passes it through U-Net and returns the output.\n",
    "        Parameters:\n",
    "            x: image tensor of shape (batch size, channels, height, width)\n",
    "        '''\n",
    "        # Keep in mind that the expand function takes two inputs, \n",
    "        # both with the same number of channels. \n",
    "        #### START CODE HERE ####\n",
    "        x0 = self.upfeature(x)\n",
    "        x1 = self.contract1(x0)\n",
    "        x2 = self.contract2(x1)\n",
    "        x3 = self.contract3(x2)\n",
    "        x4 = self.contract4(x3)\n",
    "        x5 = self.expand1(x4, x3)\n",
    "        x6 = self.expand2(x5, x2)\n",
    "        x7 = self.expand3(x6, x1)\n",
    "        x8 = self.expand4(x7, x0)\n",
    "        xn = self.downfeature(x8)\n",
    "        #### END CODE HERE ####\n",
    "        return xn"
   ]
  },
  {
   "cell_type": "code",
   "execution_count": 79,
   "metadata": {
    "colab": {
     "base_uri": "https://localhost:8080/",
     "height": 34
    },
    "colab_type": "code",
    "id": "CdL5DE90jMEU",
    "outputId": "efa8a76a-2e90-4971-a3f3-1fe7ef34def1"
   },
   "outputs": [
    {
     "name": "stdout",
     "output_type": "stream",
     "text": [
      "Success!\n"
     ]
    }
   ],
   "source": [
    "#UNIT TEST\n",
    "test_unet = UNet(1, 3)\n",
    "assert tuple(test_unet(torch.randn(1, 1, 256, 256)).shape) == (1, 3, 117, 117)\n",
    "print(\"Success!\")"
   ]
  },
  {
   "cell_type": "markdown",
   "metadata": {
    "colab_type": "text",
    "id": "qRk_8azSq3tF"
   },
   "source": [
    "## Training\n",
    "\n",
    "Finally, you will put this into action!\n",
    "Remember that these are your parameters:\n",
    "  *   criterion: the loss function\n",
    "  *   n_epochs: the number of times you iterate through the entire dataset when training\n",
    "  *   input_dim: the number of channels of the input image\n",
    "  *   label_dim: the number of channels of the output image\n",
    "  *   display_step: how often to display/visualize the images\n",
    "  *   batch_size: the number of images per forward/backward pass\n",
    "  *   lr: the learning rate\n",
    "  *   initial_shape: the size of the input image (in pixels)\n",
    "  *   target_shape: the size of the output image (in pixels)\n",
    "  *   device: the device type\n",
    "\n",
    "This should take only a few minutes to train!"
   ]
  },
  {
   "cell_type": "code",
   "execution_count": 80,
   "metadata": {
    "colab": {},
    "colab_type": "code",
    "id": "UXptQZcwrBrq"
   },
   "outputs": [],
   "source": [
    "import torch.nn.functional as F\n",
    "criterion = nn.BCEWithLogitsLoss()\n",
    "n_epochs = 200\n",
    "input_dim = 1\n",
    "label_dim = 1\n",
    "display_step = 20\n",
    "batch_size = 4\n",
    "lr = 0.0002\n",
    "initial_shape = 512\n",
    "target_shape = 373\n",
    "device = 'cuda'"
   ]
  },
  {
   "cell_type": "code",
   "execution_count": 81,
   "metadata": {
    "colab": {
     "base_uri": "https://localhost:8080/",
     "height": 34
    },
    "colab_type": "code",
    "id": "PNAK2XqMJ419",
    "outputId": "76463ed4-918f-4a6b-9cc2-884ca7229dc7"
   },
   "outputs": [],
   "source": [
    "from skimage import io\n",
    "import numpy as np\n",
    "volumes = torch.Tensor(io.imread('train-volume.tif'))[:, None, :, :] / 255\n",
    "labels = torch.Tensor(io.imread('train-labels.tif', plugin=\"tifffile\"))[:, None, :, :] / 255\n",
    "labels = crop(labels, torch.Size([len(labels), 1, target_shape, target_shape]))\n",
    "dataset = torch.utils.data.TensorDataset(volumes, labels)"
   ]
  },
  {
   "cell_type": "code",
   "execution_count": null,
   "metadata": {
    "colab": {},
    "colab_type": "code",
    "id": "fy6UBV60HtnY"
   },
   "outputs": [],
   "source": [
    "def train():\n",
    "    dataloader = DataLoader(\n",
    "        dataset,\n",
    "        batch_size=batch_size,\n",
    "        shuffle=True)\n",
    "    unet = UNet(input_dim, label_dim).to(device)\n",
    "    unet_opt = torch.optim.Adam(unet.parameters(), lr=lr)\n",
    "    cur_step = 0\n",
    "\n",
    "    for epoch in range(n_epochs):\n",
    "        for real, labels in tqdm(dataloader):\n",
    "            cur_batch_size = len(real)\n",
    "            # Flatten the image\n",
    "            real = real.to(device)\n",
    "            labels = labels.to(device)\n",
    "\n",
    "            ### Update U-Net ###\n",
    "            unet_opt.zero_grad()\n",
    "            pred = unet(real)\n",
    "            unet_loss = criterion(pred, labels)\n",
    "            unet_loss.backward()\n",
    "            unet_opt.step()\n",
    "\n",
    "            if cur_step % display_step == 0:\n",
    "                print(f\"Epoch {epoch}: Step {cur_step}: U-Net loss: {unet_loss.item()}\")\n",
    "                show_tensor_images(\n",
    "                    crop(real, torch.Size([len(real), 1, target_shape, target_shape])), \n",
    "                    size=(input_dim, target_shape, target_shape)\n",
    "                )\n",
    "                show_tensor_images(labels, size=(label_dim, target_shape, target_shape))\n",
    "                show_tensor_images(torch.sigmoid(pred), size=(label_dim, target_shape, target_shape))\n",
    "            cur_step += 1\n",
    "\n",
    "train()"
   ]
  },
  {
   "cell_type": "code",
   "execution_count": null,
   "metadata": {},
   "outputs": [],
   "source": []
  }
 ],
 "metadata": {
  "accelerator": "GPU",
  "colab": {
   "collapsed_sections": [],
   "name": "C3W2_4: U-Net.ipynb",
   "provenance": []
  },
  "coursera": {
   "schema_names": [
    "GANSC3-2A"
   ]
  },
  "kernelspec": {
   "display_name": "Python 3",
   "language": "python",
   "name": "python3"
  },
  "language_info": {
   "codemirror_mode": {
    "name": "ipython",
    "version": 3
   },
   "file_extension": ".py",
   "mimetype": "text/x-python",
   "name": "python",
   "nbconvert_exporter": "python",
   "pygments_lexer": "ipython3",
   "version": "3.7.7"
  }
 },
 "nbformat": 4,
 "nbformat_minor": 4
}
